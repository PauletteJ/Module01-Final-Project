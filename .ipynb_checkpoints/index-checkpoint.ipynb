{
 "cells": [
  {
   "cell_type": "markdown",
   "metadata": {},
   "source": [
    "This project will determine the best kind of movies for Microsoft to make.\n",
    "First we will import the necessary packages, then we will load the web page to scrape. This page is a list of all-time grossing movies."
   ]
  },
  {
   "cell_type": "code",
   "execution_count": 1,
   "metadata": {},
   "outputs": [],
   "source": [
    "import pandas as pd\n",
    "from bs4 import BeautifulSoup\n",
    "import requests\n",
    "import re\n",
    "import numpy as np\n",
    "import sqlite3\n",
    "from matplotlib import pyplot as plt \n",
    "%matplotlib inline\n"
   ]
  },
  {
   "cell_type": "code",
   "execution_count": 2,
   "metadata": {},
   "outputs": [],
   "source": [
    "html_page = requests.get('https://www.boxofficemojo.com/chart/top_lifetime_gross/?area=XWW')\n",
    "soup = BeautifulSoup(html_page.content, 'html.parser') "
   ]
  },
  {
   "cell_type": "markdown",
   "metadata": {},
   "source": [
    "The table consists of four types of data: rank, title, lifetime gross, and year. Using the inspect element feature \n",
    "in the browser, it is evident that the rank is in mojo-field-type-rank; title in mojo-field-type-title, lifetime \n",
    "gross in mojo-field-type-rank, and release year in mojo-field-type-year"
   ]
  },
  {
   "cell_type": "code",
   "execution_count": 3,
   "metadata": {},
   "outputs": [
    {
     "data": {
      "text/plain": [
       "<td class=\"a-text-right mojo-header-column mojo-truncate mojo-field-type-rank\">1</td>"
      ]
     },
     "execution_count": 3,
     "metadata": {},
     "output_type": "execute_result"
    }
   ],
   "source": [
    "rank = soup.find('td', class_=\"mojo-field-type-rank\")\n",
    "rank "
   ]
  },
  {
   "cell_type": "markdown",
   "metadata": {},
   "source": [
    "We'll put the ranks of all the movies in a list."
   ]
  },
  {
   "cell_type": "code",
   "execution_count": 4,
   "metadata": {},
   "outputs": [
    {
     "name": "stdout",
     "output_type": "stream",
     "text": [
      "200 ['1', '2', '3', '4', '5']\n"
     ]
    }
   ],
   "source": [
    "rank_list = [r.text for r in soup.findAll('td', class_=\"mojo-field-type-rank\")] \n",
    "print(len(rank_list), rank_list[:5])"
   ]
  },
  {
   "cell_type": "markdown",
   "metadata": {},
   "source": [
    "We'll then find the titles, gross earnings, and year released and put those in lists."
   ]
  },
  {
   "cell_type": "code",
   "execution_count": 5,
   "metadata": {},
   "outputs": [
    {
     "data": {
      "text/plain": [
       "<td class=\"a-text-left mojo-field-type-title\"><a class=\"a-link-normal\" href=\"/title/tt4154796/?ref_=bo_cso_table_1\">Avengers: Endgame</a></td>"
      ]
     },
     "execution_count": 5,
     "metadata": {},
     "output_type": "execute_result"
    }
   ],
   "source": [
    "title = rank.nextSibling\n",
    "title"
   ]
  },
  {
   "cell_type": "code",
   "execution_count": 6,
   "metadata": {},
   "outputs": [
    {
     "name": "stdout",
     "output_type": "stream",
     "text": [
      "200 ['Avengers: Endgame', 'Avatar', 'Titanic', 'Star Wars: Episode VII - The Force Awakens', 'Avengers: Infinity War']\n"
     ]
    }
   ],
   "source": [
    "title_list = [t.text for t in soup.findAll('td', class_=\"mojo-field-type-title\")] \n",
    "print(len(title_list), title_list[:5])"
   ]
  },
  {
   "cell_type": "code",
   "execution_count": 7,
   "metadata": {},
   "outputs": [
    {
     "data": {
      "text/plain": [
       "<td class=\"a-text-right mojo-field-type-money\">$2,797,800,564</td>"
      ]
     },
     "execution_count": 7,
     "metadata": {},
     "output_type": "execute_result"
    }
   ],
   "source": [
    "money = title.nextSibling\n",
    "money"
   ]
  },
  {
   "cell_type": "code",
   "execution_count": 8,
   "metadata": {},
   "outputs": [
    {
     "name": "stdout",
     "output_type": "stream",
     "text": [
      "200 ['$2,797,800,564', '$2,790,439,092', '$2,471,754,307', '$2,068,454,310', '$2,048,359,754']\n"
     ]
    }
   ],
   "source": [
    "money_list = [m.text for m in soup.findAll('td', class_=\"mojo-field-type-money\")] \n",
    "print(len(money_list), money_list[:5])"
   ]
  },
  {
   "cell_type": "code",
   "execution_count": 9,
   "metadata": {},
   "outputs": [
    {
     "data": {
      "text/plain": [
       "<td class=\"a-text-left mojo-field-type-year\"><a class=\"a-link-normal\" href=\"/year/world/2019/?ref_=bo_cso_table_1\">2019</a></td>"
      ]
     },
     "execution_count": 9,
     "metadata": {},
     "output_type": "execute_result"
    }
   ],
   "source": [
    "year = money.nextSibling\n",
    "year"
   ]
  },
  {
   "cell_type": "code",
   "execution_count": 10,
   "metadata": {},
   "outputs": [
    {
     "name": "stdout",
     "output_type": "stream",
     "text": [
      "200 ['2019', '2009', '1997', '2015', '2018']\n"
     ]
    }
   ],
   "source": [
    "year_list = [y.text for y in soup.findAll('td', class_=\"mojo-field-type-year\")] \n",
    "print(len(year_list), year_list[:5])"
   ]
  },
  {
   "cell_type": "markdown",
   "metadata": {},
   "source": [
    "The links to the movie pages didn't have an attribute that was unique (it was the same for every link in the page). \n",
    "To get just the link, first I got a container with the url we need for each movie"
   ]
  },
  {
   "cell_type": "code",
   "execution_count": 11,
   "metadata": {},
   "outputs": [
    {
     "name": "stdout",
     "output_type": "stream",
     "text": [
      "200 <td class=\"a-text-left mojo-field-type-title\"><a class=\"a-link-normal\" href=\"/title/tt4154796/?ref_=bo_cso_table_1\">Avengers: Endgame</a></td>\n"
     ]
    }
   ],
   "source": [
    "link_list = [t for t in soup.findAll('td', class_=\"mojo-field-type-title\")] \n",
    "print(len(link_list), link_list[0])"
   ]
  },
  {
   "cell_type": "markdown",
   "metadata": {},
   "source": [
    "Then I extracted just the href from each."
   ]
  },
  {
   "cell_type": "code",
   "execution_count": 12,
   "metadata": {},
   "outputs": [
    {
     "name": "stdout",
     "output_type": "stream",
     "text": [
      "200 /title/tt4154796/?ref_=bo_cso_table_1\n"
     ]
    }
   ],
   "source": [
    "new_link_list = []\n",
    "for t in link_list:\n",
    "    link = [x.get('href') for x in t.findAll('a', class_=\"a-link-normal\")]\n",
    "    link_str = link[0]\n",
    "    new_link_list.append(link_str)\n",
    "print(len(new_link_list), new_link_list[0])"
   ]
  },
  {
   "cell_type": "markdown",
   "metadata": {},
   "source": [
    "I put the lists into a dataframe."
   ]
  },
  {
   "cell_type": "code",
   "execution_count": 13,
   "metadata": {},
   "outputs": [
    {
     "data": {
      "text/html": [
       "<div>\n",
       "<style scoped>\n",
       "    .dataframe tbody tr th:only-of-type {\n",
       "        vertical-align: middle;\n",
       "    }\n",
       "\n",
       "    .dataframe tbody tr th {\n",
       "        vertical-align: top;\n",
       "    }\n",
       "\n",
       "    .dataframe thead th {\n",
       "        text-align: right;\n",
       "    }\n",
       "</style>\n",
       "<table border=\"1\" class=\"dataframe\">\n",
       "  <thead>\n",
       "    <tr style=\"text-align: right;\">\n",
       "      <th></th>\n",
       "      <th>Lifetime_Rank</th>\n",
       "      <th>Movie_Title</th>\n",
       "      <th>Movie_Page</th>\n",
       "      <th>Lifetime_Gross</th>\n",
       "      <th>Year_Released</th>\n",
       "    </tr>\n",
       "  </thead>\n",
       "  <tbody>\n",
       "    <tr>\n",
       "      <th>0</th>\n",
       "      <td>1</td>\n",
       "      <td>Avengers: Endgame</td>\n",
       "      <td>/title/tt4154796/?ref_=bo_cso_table_1</td>\n",
       "      <td>$2,797,800,564</td>\n",
       "      <td>2019</td>\n",
       "    </tr>\n",
       "    <tr>\n",
       "      <th>1</th>\n",
       "      <td>2</td>\n",
       "      <td>Avatar</td>\n",
       "      <td>/title/tt0499549/?ref_=bo_cso_table_2</td>\n",
       "      <td>$2,790,439,092</td>\n",
       "      <td>2009</td>\n",
       "    </tr>\n",
       "    <tr>\n",
       "      <th>2</th>\n",
       "      <td>3</td>\n",
       "      <td>Titanic</td>\n",
       "      <td>/title/tt0120338/?ref_=bo_cso_table_3</td>\n",
       "      <td>$2,471,754,307</td>\n",
       "      <td>1997</td>\n",
       "    </tr>\n",
       "    <tr>\n",
       "      <th>3</th>\n",
       "      <td>4</td>\n",
       "      <td>Star Wars: Episode VII - The Force Awakens</td>\n",
       "      <td>/title/tt2488496/?ref_=bo_cso_table_4</td>\n",
       "      <td>$2,068,454,310</td>\n",
       "      <td>2015</td>\n",
       "    </tr>\n",
       "    <tr>\n",
       "      <th>4</th>\n",
       "      <td>5</td>\n",
       "      <td>Avengers: Infinity War</td>\n",
       "      <td>/title/tt4154756/?ref_=bo_cso_table_5</td>\n",
       "      <td>$2,048,359,754</td>\n",
       "      <td>2018</td>\n",
       "    </tr>\n",
       "    <tr>\n",
       "      <th>...</th>\n",
       "      <td>...</td>\n",
       "      <td>...</td>\n",
       "      <td>...</td>\n",
       "      <td>...</td>\n",
       "      <td>...</td>\n",
       "    </tr>\n",
       "    <tr>\n",
       "      <th>195</th>\n",
       "      <td>196</td>\n",
       "      <td>The Simpsons Movie</td>\n",
       "      <td>/title/tt0462538/?ref_=bo_cso_table_196</td>\n",
       "      <td>$536,414,293</td>\n",
       "      <td>2007</td>\n",
       "    </tr>\n",
       "    <tr>\n",
       "      <th>196</th>\n",
       "      <td>197</td>\n",
       "      <td>The Revenant</td>\n",
       "      <td>/title/tt1663202/?ref_=bo_cso_table_197</td>\n",
       "      <td>$532,950,503</td>\n",
       "      <td>2015</td>\n",
       "    </tr>\n",
       "    <tr>\n",
       "      <th>197</th>\n",
       "      <td>198</td>\n",
       "      <td>The Meg</td>\n",
       "      <td>/title/tt4779682/?ref_=bo_cso_table_198</td>\n",
       "      <td>$530,259,473</td>\n",
       "      <td>2018</td>\n",
       "    </tr>\n",
       "    <tr>\n",
       "      <th>198</th>\n",
       "      <td>199</td>\n",
       "      <td>Ralph Breaks the Internet</td>\n",
       "      <td>/title/tt5848272/?ref_=bo_cso_table_199</td>\n",
       "      <td>$529,323,962</td>\n",
       "      <td>2018</td>\n",
       "    </tr>\n",
       "    <tr>\n",
       "      <th>199</th>\n",
       "      <td>200</td>\n",
       "      <td>Hotel Transylvania 3: Summer Vacation</td>\n",
       "      <td>/title/tt5220122/?ref_=bo_cso_table_200</td>\n",
       "      <td>$528,583,774</td>\n",
       "      <td>2018</td>\n",
       "    </tr>\n",
       "  </tbody>\n",
       "</table>\n",
       "<p>200 rows × 5 columns</p>\n",
       "</div>"
      ],
      "text/plain": [
       "    Lifetime_Rank                                 Movie_Title  \\\n",
       "0               1                           Avengers: Endgame   \n",
       "1               2                                      Avatar   \n",
       "2               3                                     Titanic   \n",
       "3               4  Star Wars: Episode VII - The Force Awakens   \n",
       "4               5                      Avengers: Infinity War   \n",
       "..            ...                                         ...   \n",
       "195           196                          The Simpsons Movie   \n",
       "196           197                                The Revenant   \n",
       "197           198                                     The Meg   \n",
       "198           199                   Ralph Breaks the Internet   \n",
       "199           200       Hotel Transylvania 3: Summer Vacation   \n",
       "\n",
       "                                  Movie_Page  Lifetime_Gross Year_Released  \n",
       "0      /title/tt4154796/?ref_=bo_cso_table_1  $2,797,800,564          2019  \n",
       "1      /title/tt0499549/?ref_=bo_cso_table_2  $2,790,439,092          2009  \n",
       "2      /title/tt0120338/?ref_=bo_cso_table_3  $2,471,754,307          1997  \n",
       "3      /title/tt2488496/?ref_=bo_cso_table_4  $2,068,454,310          2015  \n",
       "4      /title/tt4154756/?ref_=bo_cso_table_5  $2,048,359,754          2018  \n",
       "..                                       ...             ...           ...  \n",
       "195  /title/tt0462538/?ref_=bo_cso_table_196    $536,414,293          2007  \n",
       "196  /title/tt1663202/?ref_=bo_cso_table_197    $532,950,503          2015  \n",
       "197  /title/tt4779682/?ref_=bo_cso_table_198    $530,259,473          2018  \n",
       "198  /title/tt5848272/?ref_=bo_cso_table_199    $529,323,962          2018  \n",
       "199  /title/tt5220122/?ref_=bo_cso_table_200    $528,583,774          2018  \n",
       "\n",
       "[200 rows x 5 columns]"
      ]
     },
     "execution_count": 13,
     "metadata": {},
     "output_type": "execute_result"
    }
   ],
   "source": [
    "df = pd.DataFrame([rank_list, title_list, new_link_list, money_list, year_list]).transpose()\n",
    "df.columns = ['Lifetime_Rank', 'Movie_Title', 'Movie_Page', 'Lifetime_Gross', 'Year_Released']\n",
    "df"
   ]
  },
  {
   "cell_type": "markdown",
   "metadata": {},
   "source": [
    "Now I repeated the process for the tables of top grossing films for 2019 and 2020."
   ]
  },
  {
   "cell_type": "code",
   "execution_count": 14,
   "metadata": {},
   "outputs": [
    {
     "name": "stdout",
     "output_type": "stream",
     "text": [
      "<td class=\"a-text-right mojo-header-column mojo-truncate mojo-field-type-rank mojo-sort-column\">1</td> <td class=\"a-text-left mojo-field-type-release mojo-cell-wide\"><a class=\"a-link-normal\" href=\"/release/rl3059975681/?ref_=bo_yld_table_1\">Avengers: Endgame</a></td> <td class=\"a-text-right mojo-field-type-money hidden\">-</td>\n"
     ]
    }
   ],
   "source": [
    "# Get top grossing films, 2019, 2020\n",
    "html_page2 = requests.get('https://www.boxofficemojo.com/year/2019/?ref_=bo_yl_table_3')\n",
    "soup2 = BeautifulSoup(html_page2.content, 'html.parser') \n",
    "rank_2019 = soup2.find('td', class_=\"mojo-field-type-rank\")\n",
    "title_2019 = soup2.find('td', class_=\"mojo-field-type-release\")\n",
    "money_2019 = soup2.find('td', class_=\"mojo-field-type-money\")\n",
    "print(rank_2019, title_2019, money_2019)"
   ]
  },
  {
   "cell_type": "code",
   "execution_count": 16,
   "metadata": {},
   "outputs": [
    {
     "name": "stdout",
     "output_type": "stream",
     "text": [
      "911 ['1', '2', '3', '4', '5']\n",
      "911 ['Avengers: Endgame', 'The Lion King', 'Toy Story 4', 'Frozen II', 'Captain Marvel']\n",
      "2733 ['-', '$858,373,000', '$858,373,000', '-', '$543,638,043']\n"
     ]
    }
   ],
   "source": [
    "rank_2019_list = [r.text for r in soup2.findAll('td', class_=\"mojo-field-type-rank\")] \n",
    "print(len(rank_2019_list), rank_2019_list[:5])\n",
    "title_2019_list = [t.text for t in soup2.findAll('td', class_=\"mojo-field-type-release\")] \n",
    "print(len(title_2019_list), title_2019_list[:5])\n",
    "money_2019_list = [m.text for m in soup2.findAll('td', class_=\"mojo-field-type-money\")] \n",
    "print(len(money_2019_list), money_2019_list[:5])"
   ]
  },
  {
   "cell_type": "code",
   "execution_count": 17,
   "metadata": {},
   "outputs": [
    {
     "name": "stdout",
     "output_type": "stream",
     "text": [
      "911 ['$858,373,000', '$543,638,043', '$434,038,008', '$430,144,682', '$426,829,839']\n"
     ]
    }
   ],
   "source": [
    "revised_money_2019_list = []\n",
    "for i in range(len(money_2019_list)):\n",
    "    if i%3 == 1:\n",
    "       revised_money_2019_list.append(money_2019_list[i])\n",
    "print(len(revised_money_2019_list), revised_money_2019_list[:5])"
   ]
  },
  {
   "cell_type": "code",
   "execution_count": 18,
   "metadata": {},
   "outputs": [
    {
     "name": "stdout",
     "output_type": "stream",
     "text": [
      "911 /release/rl3059975681/?ref_=bo_yld_table_1\n"
     ]
    }
   ],
   "source": [
    "# as in the first dataframe, I extracted the link to the page for each movie\n",
    "link_list_2019 = [t for t in soup2.findAll('td', class_=\"mojo-field-type-release\")] \n",
    "new_link_list_2019 = []\n",
    "for t in link_list_2019:\n",
    "    link = [x.get('href') for x in t.findAll('a', class_=\"a-link-normal\")]\n",
    "    link_str = link[0]\n",
    "    new_link_list_2019.append(link_str)\n",
    "print(len(new_link_list_2019), new_link_list_2019[0])"
   ]
  },
  {
   "cell_type": "code",
   "execution_count": 19,
   "metadata": {},
   "outputs": [
    {
     "data": {
      "text/html": [
       "<div>\n",
       "<style scoped>\n",
       "    .dataframe tbody tr th:only-of-type {\n",
       "        vertical-align: middle;\n",
       "    }\n",
       "\n",
       "    .dataframe tbody tr th {\n",
       "        vertical-align: top;\n",
       "    }\n",
       "\n",
       "    .dataframe thead th {\n",
       "        text-align: right;\n",
       "    }\n",
       "</style>\n",
       "<table border=\"1\" class=\"dataframe\">\n",
       "  <thead>\n",
       "    <tr style=\"text-align: right;\">\n",
       "      <th></th>\n",
       "      <th>2019_Rank</th>\n",
       "      <th>Movie_Title</th>\n",
       "      <th>Movie_Page</th>\n",
       "      <th>2019_Gross</th>\n",
       "    </tr>\n",
       "  </thead>\n",
       "  <tbody>\n",
       "    <tr>\n",
       "      <th>0</th>\n",
       "      <td>1</td>\n",
       "      <td>Avengers: Endgame</td>\n",
       "      <td>/release/rl3059975681/?ref_=bo_yld_table_1</td>\n",
       "      <td>$858,373,000</td>\n",
       "    </tr>\n",
       "    <tr>\n",
       "      <th>1</th>\n",
       "      <td>2</td>\n",
       "      <td>The Lion King</td>\n",
       "      <td>/release/rl3321923073/?ref_=bo_yld_table_2</td>\n",
       "      <td>$543,638,043</td>\n",
       "    </tr>\n",
       "    <tr>\n",
       "      <th>2</th>\n",
       "      <td>3</td>\n",
       "      <td>Toy Story 4</td>\n",
       "      <td>/release/rl3798500865/?ref_=bo_yld_table_3</td>\n",
       "      <td>$434,038,008</td>\n",
       "    </tr>\n",
       "    <tr>\n",
       "      <th>3</th>\n",
       "      <td>4</td>\n",
       "      <td>Frozen II</td>\n",
       "      <td>/release/rl2424210945/?ref_=bo_yld_table_4</td>\n",
       "      <td>$430,144,682</td>\n",
       "    </tr>\n",
       "    <tr>\n",
       "      <th>4</th>\n",
       "      <td>5</td>\n",
       "      <td>Captain Marvel</td>\n",
       "      <td>/release/rl3009644033/?ref_=bo_yld_table_5</td>\n",
       "      <td>$426,829,839</td>\n",
       "    </tr>\n",
       "    <tr>\n",
       "      <th>...</th>\n",
       "      <td>...</td>\n",
       "      <td>...</td>\n",
       "      <td>...</td>\n",
       "      <td>...</td>\n",
       "    </tr>\n",
       "    <tr>\n",
       "      <th>906</th>\n",
       "      <td>907</td>\n",
       "      <td>Henchmen</td>\n",
       "      <td>/release/rl1241941505/?ref_=bo_yld_table_907</td>\n",
       "      <td>$297</td>\n",
       "    </tr>\n",
       "    <tr>\n",
       "      <th>907</th>\n",
       "      <td>908</td>\n",
       "      <td>1945</td>\n",
       "      <td>/release/rl3506603521/?ref_=bo_yld_table_908</td>\n",
       "      <td>$236</td>\n",
       "    </tr>\n",
       "    <tr>\n",
       "      <th>908</th>\n",
       "      <td>909</td>\n",
       "      <td>Tall Tales from the Magical Garden of Antoon K...</td>\n",
       "      <td>/release/rl17401345/?ref_=bo_yld_table_909</td>\n",
       "      <td>$220</td>\n",
       "    </tr>\n",
       "    <tr>\n",
       "      <th>909</th>\n",
       "      <td>910</td>\n",
       "      <td>Over the Limit</td>\n",
       "      <td>/release/rl268928513/?ref_=bo_yld_table_910</td>\n",
       "      <td>$117</td>\n",
       "    </tr>\n",
       "    <tr>\n",
       "      <th>910</th>\n",
       "      <td>911</td>\n",
       "      <td>Postcards from London</td>\n",
       "      <td>/release/rl3104278017/?ref_=bo_yld_table_911</td>\n",
       "      <td>$99</td>\n",
       "    </tr>\n",
       "  </tbody>\n",
       "</table>\n",
       "<p>911 rows × 4 columns</p>\n",
       "</div>"
      ],
      "text/plain": [
       "    2019_Rank                                        Movie_Title  \\\n",
       "0           1                                  Avengers: Endgame   \n",
       "1           2                                      The Lion King   \n",
       "2           3                                        Toy Story 4   \n",
       "3           4                                          Frozen II   \n",
       "4           5                                     Captain Marvel   \n",
       "..        ...                                                ...   \n",
       "906       907                                           Henchmen   \n",
       "907       908                                               1945   \n",
       "908       909  Tall Tales from the Magical Garden of Antoon K...   \n",
       "909       910                                     Over the Limit   \n",
       "910       911                              Postcards from London   \n",
       "\n",
       "                                       Movie_Page    2019_Gross  \n",
       "0      /release/rl3059975681/?ref_=bo_yld_table_1  $858,373,000  \n",
       "1      /release/rl3321923073/?ref_=bo_yld_table_2  $543,638,043  \n",
       "2      /release/rl3798500865/?ref_=bo_yld_table_3  $434,038,008  \n",
       "3      /release/rl2424210945/?ref_=bo_yld_table_4  $430,144,682  \n",
       "4      /release/rl3009644033/?ref_=bo_yld_table_5  $426,829,839  \n",
       "..                                            ...           ...  \n",
       "906  /release/rl1241941505/?ref_=bo_yld_table_907          $297  \n",
       "907  /release/rl3506603521/?ref_=bo_yld_table_908          $236  \n",
       "908    /release/rl17401345/?ref_=bo_yld_table_909          $220  \n",
       "909   /release/rl268928513/?ref_=bo_yld_table_910          $117  \n",
       "910  /release/rl3104278017/?ref_=bo_yld_table_911           $99  \n",
       "\n",
       "[911 rows x 4 columns]"
      ]
     },
     "execution_count": 19,
     "metadata": {},
     "output_type": "execute_result"
    }
   ],
   "source": [
    "df_2019 = pd.DataFrame([rank_2019_list, title_2019_list, new_link_list_2019, revised_money_2019_list]).transpose()\n",
    "df_2019.columns = ['2019_Rank', 'Movie_Title', 'Movie_Page', '2019_Gross']\n",
    "df_2019"
   ]
  },
  {
   "cell_type": "code",
   "execution_count": 20,
   "metadata": {},
   "outputs": [
    {
     "name": "stdout",
     "output_type": "stream",
     "text": [
      "454 /release/rl1182631425/?ref_=bo_yld_table_1\n"
     ]
    },
    {
     "data": {
      "text/html": [
       "<div>\n",
       "<style scoped>\n",
       "    .dataframe tbody tr th:only-of-type {\n",
       "        vertical-align: middle;\n",
       "    }\n",
       "\n",
       "    .dataframe tbody tr th {\n",
       "        vertical-align: top;\n",
       "    }\n",
       "\n",
       "    .dataframe thead th {\n",
       "        text-align: right;\n",
       "    }\n",
       "</style>\n",
       "<table border=\"1\" class=\"dataframe\">\n",
       "  <thead>\n",
       "    <tr style=\"text-align: right;\">\n",
       "      <th></th>\n",
       "      <th>2020_Rank</th>\n",
       "      <th>Movie_Title</th>\n",
       "      <th>Movie_Page</th>\n",
       "      <th>2020_Gross</th>\n",
       "    </tr>\n",
       "  </thead>\n",
       "  <tbody>\n",
       "    <tr>\n",
       "      <th>0</th>\n",
       "      <td>1</td>\n",
       "      <td>Bad Boys for Life</td>\n",
       "      <td>/release/rl1182631425/?ref_=bo_yld_table_1</td>\n",
       "      <td>$204,417,855</td>\n",
       "    </tr>\n",
       "    <tr>\n",
       "      <th>1</th>\n",
       "      <td>2</td>\n",
       "      <td>1917</td>\n",
       "      <td>/release/rl2969994753/?ref_=bo_yld_table_2</td>\n",
       "      <td>$157,901,466</td>\n",
       "    </tr>\n",
       "    <tr>\n",
       "      <th>2</th>\n",
       "      <td>3</td>\n",
       "      <td>Sonic the Hedgehog</td>\n",
       "      <td>/release/rl4244997633/?ref_=bo_yld_table_3</td>\n",
       "      <td>$146,066,470</td>\n",
       "    </tr>\n",
       "    <tr>\n",
       "      <th>3</th>\n",
       "      <td>4</td>\n",
       "      <td>Jumanji: The Next Level</td>\n",
       "      <td>/release/rl755467777/?ref_=bo_yld_table_4</td>\n",
       "      <td>$124,736,710</td>\n",
       "    </tr>\n",
       "    <tr>\n",
       "      <th>4</th>\n",
       "      <td>5</td>\n",
       "      <td>Star Wars: Episode IX - The Rise of Skywalker</td>\n",
       "      <td>/release/rl3305145857/?ref_=bo_yld_table_5</td>\n",
       "      <td>$124,496,308</td>\n",
       "    </tr>\n",
       "    <tr>\n",
       "      <th>...</th>\n",
       "      <td>...</td>\n",
       "      <td>...</td>\n",
       "      <td>...</td>\n",
       "      <td>...</td>\n",
       "    </tr>\n",
       "    <tr>\n",
       "      <th>449</th>\n",
       "      <td>450</td>\n",
       "      <td>Asako I &amp; II</td>\n",
       "      <td>/release/rl1359513089/?ref_=bo_yld_table_450</td>\n",
       "      <td>$231</td>\n",
       "    </tr>\n",
       "    <tr>\n",
       "      <th>450</th>\n",
       "      <td>451</td>\n",
       "      <td>Chained for Life</td>\n",
       "      <td>/release/rl1292600833/?ref_=bo_yld_table_451</td>\n",
       "      <td>$115</td>\n",
       "    </tr>\n",
       "    <tr>\n",
       "      <th>451</th>\n",
       "      <td>452</td>\n",
       "      <td>Shooting the Mafia</td>\n",
       "      <td>/release/rl2366342657/?ref_=bo_yld_table_452</td>\n",
       "      <td>$88</td>\n",
       "    </tr>\n",
       "    <tr>\n",
       "      <th>452</th>\n",
       "      <td>453</td>\n",
       "      <td>Benjamin the Elephant (2020)</td>\n",
       "      <td>/release/rl1180795649/?ref_=bo_yld_table_453</td>\n",
       "      <td>$49</td>\n",
       "    </tr>\n",
       "    <tr>\n",
       "      <th>453</th>\n",
       "      <td>454</td>\n",
       "      <td>Love Goes Public</td>\n",
       "      <td>/release/rl2124382721/?ref_=bo_yld_table_454</td>\n",
       "      <td>$38</td>\n",
       "    </tr>\n",
       "  </tbody>\n",
       "</table>\n",
       "<p>454 rows × 4 columns</p>\n",
       "</div>"
      ],
      "text/plain": [
       "    2020_Rank                                    Movie_Title  \\\n",
       "0           1                              Bad Boys for Life   \n",
       "1           2                                           1917   \n",
       "2           3                             Sonic the Hedgehog   \n",
       "3           4                        Jumanji: The Next Level   \n",
       "4           5  Star Wars: Episode IX - The Rise of Skywalker   \n",
       "..        ...                                            ...   \n",
       "449       450                                   Asako I & II   \n",
       "450       451                               Chained for Life   \n",
       "451       452                             Shooting the Mafia   \n",
       "452       453                   Benjamin the Elephant (2020)   \n",
       "453       454                               Love Goes Public   \n",
       "\n",
       "                                       Movie_Page    2020_Gross  \n",
       "0      /release/rl1182631425/?ref_=bo_yld_table_1  $204,417,855  \n",
       "1      /release/rl2969994753/?ref_=bo_yld_table_2  $157,901,466  \n",
       "2      /release/rl4244997633/?ref_=bo_yld_table_3  $146,066,470  \n",
       "3       /release/rl755467777/?ref_=bo_yld_table_4  $124,736,710  \n",
       "4      /release/rl3305145857/?ref_=bo_yld_table_5  $124,496,308  \n",
       "..                                            ...           ...  \n",
       "449  /release/rl1359513089/?ref_=bo_yld_table_450          $231  \n",
       "450  /release/rl1292600833/?ref_=bo_yld_table_451          $115  \n",
       "451  /release/rl2366342657/?ref_=bo_yld_table_452           $88  \n",
       "452  /release/rl1180795649/?ref_=bo_yld_table_453           $49  \n",
       "453  /release/rl2124382721/?ref_=bo_yld_table_454           $38  \n",
       "\n",
       "[454 rows x 4 columns]"
      ]
     },
     "execution_count": 20,
     "metadata": {},
     "output_type": "execute_result"
    }
   ],
   "source": [
    "html_page3 = requests.get('https://www.boxofficemojo.com/year/2020/?grossesOption=calendarGrosses')\n",
    "soup3 = BeautifulSoup(html_page3.content, 'html.parser') \n",
    "\n",
    "# retrieve the data for each column\n",
    "rank_2020_list = [r.text for r in soup3.findAll('td', class_=\"mojo-field-type-rank\")] \n",
    "title_2020_list = [t.text for t in soup3.findAll('td', class_=\"mojo-field-type-release\")] \n",
    "money_2020_list = [m.text for m in soup3.findAll('td', class_=\"mojo-field-type-money\")] \n",
    "\n",
    "# select only the money column of that year's gross\n",
    "revised_money_2020_list = []\n",
    "for i in range(len(money_2020_list)):\n",
    "    if i%3 == 1:\n",
    "       revised_money_2020_list.append(money_2020_list[i])\n",
    "    \n",
    "# as in the first dataframe, I extracted the link to the page for each movie\n",
    "link_list_2020 = [t for t in soup3.findAll('td', class_=\"mojo-field-type-release\")] \n",
    "new_link_list_2020 = []\n",
    "for t in link_list_2020:\n",
    "    link = [x.get('href') for x in t.findAll('a', class_=\"a-link-normal\")]\n",
    "    link_str = link[0]\n",
    "    new_link_list_2020.append(link_str)\n",
    "print(len(new_link_list_2020), new_link_list_2020[0])\n",
    "\n",
    "# create the dataframe\n",
    "df_2020 = pd.DataFrame([rank_2020_list, title_2020_list, new_link_list_2020, revised_money_2020_list]).transpose()\n",
    "df_2020.columns = ['2020_Rank', 'Movie_Title', 'Movie_Page', '2020_Gross']\n",
    "df_2020"
   ]
  },
  {
   "cell_type": "markdown",
   "metadata": {},
   "source": [
    "I limited my dataframes to the top 200 grossing movies of each year."
   ]
  },
  {
   "cell_type": "code",
   "execution_count": 21,
   "metadata": {},
   "outputs": [
    {
     "data": {
      "text/html": [
       "<div>\n",
       "<style scoped>\n",
       "    .dataframe tbody tr th:only-of-type {\n",
       "        vertical-align: middle;\n",
       "    }\n",
       "\n",
       "    .dataframe tbody tr th {\n",
       "        vertical-align: top;\n",
       "    }\n",
       "\n",
       "    .dataframe thead th {\n",
       "        text-align: right;\n",
       "    }\n",
       "</style>\n",
       "<table border=\"1\" class=\"dataframe\">\n",
       "  <thead>\n",
       "    <tr style=\"text-align: right;\">\n",
       "      <th></th>\n",
       "      <th>2020_Rank</th>\n",
       "      <th>Movie_Title</th>\n",
       "      <th>Movie_Page</th>\n",
       "      <th>2020_Gross</th>\n",
       "    </tr>\n",
       "  </thead>\n",
       "  <tbody>\n",
       "    <tr>\n",
       "      <th>0</th>\n",
       "      <td>1</td>\n",
       "      <td>Bad Boys for Life</td>\n",
       "      <td>/release/rl1182631425/?ref_=bo_yld_table_1</td>\n",
       "      <td>$204,417,855</td>\n",
       "    </tr>\n",
       "    <tr>\n",
       "      <th>1</th>\n",
       "      <td>2</td>\n",
       "      <td>1917</td>\n",
       "      <td>/release/rl2969994753/?ref_=bo_yld_table_2</td>\n",
       "      <td>$157,901,466</td>\n",
       "    </tr>\n",
       "    <tr>\n",
       "      <th>2</th>\n",
       "      <td>3</td>\n",
       "      <td>Sonic the Hedgehog</td>\n",
       "      <td>/release/rl4244997633/?ref_=bo_yld_table_3</td>\n",
       "      <td>$146,066,470</td>\n",
       "    </tr>\n",
       "    <tr>\n",
       "      <th>3</th>\n",
       "      <td>4</td>\n",
       "      <td>Jumanji: The Next Level</td>\n",
       "      <td>/release/rl755467777/?ref_=bo_yld_table_4</td>\n",
       "      <td>$124,736,710</td>\n",
       "    </tr>\n",
       "    <tr>\n",
       "      <th>4</th>\n",
       "      <td>5</td>\n",
       "      <td>Star Wars: Episode IX - The Rise of Skywalker</td>\n",
       "      <td>/release/rl3305145857/?ref_=bo_yld_table_5</td>\n",
       "      <td>$124,496,308</td>\n",
       "    </tr>\n",
       "    <tr>\n",
       "      <th>...</th>\n",
       "      <td>...</td>\n",
       "      <td>...</td>\n",
       "      <td>...</td>\n",
       "      <td>...</td>\n",
       "    </tr>\n",
       "    <tr>\n",
       "      <th>195</th>\n",
       "      <td>196</td>\n",
       "      <td>Extra Ordinary</td>\n",
       "      <td>/release/rl2562359809/?ref_=bo_yld_table_196</td>\n",
       "      <td>$164,346</td>\n",
       "    </tr>\n",
       "    <tr>\n",
       "      <th>196</th>\n",
       "      <td>197</td>\n",
       "      <td>Palm Springs</td>\n",
       "      <td>/release/rl3175187201/?ref_=bo_yld_table_197</td>\n",
       "      <td>$164,000</td>\n",
       "    </tr>\n",
       "    <tr>\n",
       "      <th>197</th>\n",
       "      <td>198</td>\n",
       "      <td>A Call to Spy</td>\n",
       "      <td>/release/rl3796140801/?ref_=bo_yld_table_198</td>\n",
       "      <td>$158,864</td>\n",
       "    </tr>\n",
       "    <tr>\n",
       "      <th>198</th>\n",
       "      <td>199</td>\n",
       "      <td>Love Story50th Anniversary</td>\n",
       "      <td>/release/rl934707713/?ref_=bo_yld_table_199</td>\n",
       "      <td>$153,504</td>\n",
       "    </tr>\n",
       "    <tr>\n",
       "      <th>199</th>\n",
       "      <td>200</td>\n",
       "      <td>The Dark and the Wicked</td>\n",
       "      <td>/release/rl4015883009/?ref_=bo_yld_table_200</td>\n",
       "      <td>$149,011</td>\n",
       "    </tr>\n",
       "  </tbody>\n",
       "</table>\n",
       "<p>200 rows × 4 columns</p>\n",
       "</div>"
      ],
      "text/plain": [
       "    2020_Rank                                    Movie_Title  \\\n",
       "0           1                              Bad Boys for Life   \n",
       "1           2                                           1917   \n",
       "2           3                             Sonic the Hedgehog   \n",
       "3           4                        Jumanji: The Next Level   \n",
       "4           5  Star Wars: Episode IX - The Rise of Skywalker   \n",
       "..        ...                                            ...   \n",
       "195       196                                 Extra Ordinary   \n",
       "196       197                                   Palm Springs   \n",
       "197       198                                  A Call to Spy   \n",
       "198       199                     Love Story50th Anniversary   \n",
       "199       200                        The Dark and the Wicked   \n",
       "\n",
       "                                       Movie_Page    2020_Gross  \n",
       "0      /release/rl1182631425/?ref_=bo_yld_table_1  $204,417,855  \n",
       "1      /release/rl2969994753/?ref_=bo_yld_table_2  $157,901,466  \n",
       "2      /release/rl4244997633/?ref_=bo_yld_table_3  $146,066,470  \n",
       "3       /release/rl755467777/?ref_=bo_yld_table_4  $124,736,710  \n",
       "4      /release/rl3305145857/?ref_=bo_yld_table_5  $124,496,308  \n",
       "..                                            ...           ...  \n",
       "195  /release/rl2562359809/?ref_=bo_yld_table_196      $164,346  \n",
       "196  /release/rl3175187201/?ref_=bo_yld_table_197      $164,000  \n",
       "197  /release/rl3796140801/?ref_=bo_yld_table_198      $158,864  \n",
       "198   /release/rl934707713/?ref_=bo_yld_table_199      $153,504  \n",
       "199  /release/rl4015883009/?ref_=bo_yld_table_200      $149,011  \n",
       "\n",
       "[200 rows x 4 columns]"
      ]
     },
     "execution_count": 21,
     "metadata": {},
     "output_type": "execute_result"
    }
   ],
   "source": [
    "df_2020 = df_2020.drop(df_2020.index[200:])\n",
    "df_2020"
   ]
  },
  {
   "cell_type": "code",
   "execution_count": 22,
   "metadata": {},
   "outputs": [
    {
     "data": {
      "text/html": [
       "<div>\n",
       "<style scoped>\n",
       "    .dataframe tbody tr th:only-of-type {\n",
       "        vertical-align: middle;\n",
       "    }\n",
       "\n",
       "    .dataframe tbody tr th {\n",
       "        vertical-align: top;\n",
       "    }\n",
       "\n",
       "    .dataframe thead th {\n",
       "        text-align: right;\n",
       "    }\n",
       "</style>\n",
       "<table border=\"1\" class=\"dataframe\">\n",
       "  <thead>\n",
       "    <tr style=\"text-align: right;\">\n",
       "      <th></th>\n",
       "      <th>2019_Rank</th>\n",
       "      <th>Movie_Title</th>\n",
       "      <th>Movie_Page</th>\n",
       "      <th>2019_Gross</th>\n",
       "    </tr>\n",
       "  </thead>\n",
       "  <tbody>\n",
       "    <tr>\n",
       "      <th>0</th>\n",
       "      <td>1</td>\n",
       "      <td>Avengers: Endgame</td>\n",
       "      <td>/release/rl3059975681/?ref_=bo_yld_table_1</td>\n",
       "      <td>$858,373,000</td>\n",
       "    </tr>\n",
       "    <tr>\n",
       "      <th>1</th>\n",
       "      <td>2</td>\n",
       "      <td>The Lion King</td>\n",
       "      <td>/release/rl3321923073/?ref_=bo_yld_table_2</td>\n",
       "      <td>$543,638,043</td>\n",
       "    </tr>\n",
       "    <tr>\n",
       "      <th>2</th>\n",
       "      <td>3</td>\n",
       "      <td>Toy Story 4</td>\n",
       "      <td>/release/rl3798500865/?ref_=bo_yld_table_3</td>\n",
       "      <td>$434,038,008</td>\n",
       "    </tr>\n",
       "    <tr>\n",
       "      <th>3</th>\n",
       "      <td>4</td>\n",
       "      <td>Frozen II</td>\n",
       "      <td>/release/rl2424210945/?ref_=bo_yld_table_4</td>\n",
       "      <td>$430,144,682</td>\n",
       "    </tr>\n",
       "    <tr>\n",
       "      <th>4</th>\n",
       "      <td>5</td>\n",
       "      <td>Captain Marvel</td>\n",
       "      <td>/release/rl3009644033/?ref_=bo_yld_table_5</td>\n",
       "      <td>$426,829,839</td>\n",
       "    </tr>\n",
       "    <tr>\n",
       "      <th>...</th>\n",
       "      <td>...</td>\n",
       "      <td>...</td>\n",
       "      <td>...</td>\n",
       "      <td>...</td>\n",
       "    </tr>\n",
       "    <tr>\n",
       "      <th>195</th>\n",
       "      <td>196</td>\n",
       "      <td>Welcome to Marwen</td>\n",
       "      <td>/release/rl2264958465/?ref_=bo_yld_table_196</td>\n",
       "      <td>$2,405,625</td>\n",
       "    </tr>\n",
       "    <tr>\n",
       "      <th>196</th>\n",
       "      <td>197</td>\n",
       "      <td>My People, My Country</td>\n",
       "      <td>/release/rl2433451521/?ref_=bo_yld_table_197</td>\n",
       "      <td>$2,356,683</td>\n",
       "    </tr>\n",
       "    <tr>\n",
       "      <th>197</th>\n",
       "      <td>198</td>\n",
       "      <td>Promare</td>\n",
       "      <td>/release/rl3104540161/?ref_=bo_yld_table_198</td>\n",
       "      <td>$2,287,950</td>\n",
       "    </tr>\n",
       "    <tr>\n",
       "      <th>198</th>\n",
       "      <td>199</td>\n",
       "      <td>Super 30</td>\n",
       "      <td>/release/rl4211639809/?ref_=bo_yld_table_199</td>\n",
       "      <td>$2,269,878</td>\n",
       "    </tr>\n",
       "    <tr>\n",
       "      <th>199</th>\n",
       "      <td>200</td>\n",
       "      <td>Faustina: Love and Mercy</td>\n",
       "      <td>/release/rl252413441/?ref_=bo_yld_table_200</td>\n",
       "      <td>$2,243,180</td>\n",
       "    </tr>\n",
       "  </tbody>\n",
       "</table>\n",
       "<p>200 rows × 4 columns</p>\n",
       "</div>"
      ],
      "text/plain": [
       "    2019_Rank               Movie_Title  \\\n",
       "0           1         Avengers: Endgame   \n",
       "1           2             The Lion King   \n",
       "2           3               Toy Story 4   \n",
       "3           4                 Frozen II   \n",
       "4           5            Captain Marvel   \n",
       "..        ...                       ...   \n",
       "195       196         Welcome to Marwen   \n",
       "196       197     My People, My Country   \n",
       "197       198                   Promare   \n",
       "198       199                  Super 30   \n",
       "199       200  Faustina: Love and Mercy   \n",
       "\n",
       "                                       Movie_Page    2019_Gross  \n",
       "0      /release/rl3059975681/?ref_=bo_yld_table_1  $858,373,000  \n",
       "1      /release/rl3321923073/?ref_=bo_yld_table_2  $543,638,043  \n",
       "2      /release/rl3798500865/?ref_=bo_yld_table_3  $434,038,008  \n",
       "3      /release/rl2424210945/?ref_=bo_yld_table_4  $430,144,682  \n",
       "4      /release/rl3009644033/?ref_=bo_yld_table_5  $426,829,839  \n",
       "..                                            ...           ...  \n",
       "195  /release/rl2264958465/?ref_=bo_yld_table_196    $2,405,625  \n",
       "196  /release/rl2433451521/?ref_=bo_yld_table_197    $2,356,683  \n",
       "197  /release/rl3104540161/?ref_=bo_yld_table_198    $2,287,950  \n",
       "198  /release/rl4211639809/?ref_=bo_yld_table_199    $2,269,878  \n",
       "199   /release/rl252413441/?ref_=bo_yld_table_200    $2,243,180  \n",
       "\n",
       "[200 rows x 4 columns]"
      ]
     },
     "execution_count": 22,
     "metadata": {},
     "output_type": "execute_result"
    }
   ],
   "source": [
    "df_2019 = df_2019.drop(df_2019.index[200:])\n",
    "df_2019"
   ]
  },
  {
   "cell_type": "markdown",
   "metadata": {},
   "source": [
    "Merging the three dataframes."
   ]
  },
  {
   "cell_type": "code",
   "execution_count": 23,
   "metadata": {},
   "outputs": [
    {
     "data": {
      "text/plain": [
       "382"
      ]
     },
     "execution_count": 23,
     "metadata": {},
     "output_type": "execute_result"
    }
   ],
   "source": [
    "df_new = pd.merge(df, df_2019, on = \"Movie_Title\", how = \"outer\") \n",
    "len(df_new)"
   ]
  },
  {
   "cell_type": "code",
   "execution_count": 24,
   "metadata": {},
   "outputs": [
    {
     "data": {
      "text/plain": [
       "551"
      ]
     },
     "execution_count": 24,
     "metadata": {},
     "output_type": "execute_result"
    }
   ],
   "source": [
    "df_new2 = pd.merge(df_new, df_2020, on = \"Movie_Title\", how = \"outer\") \n",
    "len(df_new2)"
   ]
  },
  {
   "cell_type": "markdown",
   "metadata": {},
   "source": [
    "Move the movie link data from the secondary and tertiary columns into the primary link column."
   ]
  },
  {
   "cell_type": "code",
   "execution_count": 25,
   "metadata": {},
   "outputs": [
    {
     "data": {
      "text/plain": [
       "0"
      ]
     },
     "execution_count": 25,
     "metadata": {},
     "output_type": "execute_result"
    }
   ],
   "source": [
    "i = 0\n",
    "for j in range(0, 551):\n",
    "    if df_new2.isnull().Movie_Page_x[i]:\n",
    "        df_new2.Movie_Page_x[i] = df_new2.Movie_Page[i]\n",
    "    if df_new2.isnull().Movie_Page_x[i]:\n",
    "        df_new2.Movie_Page_x[i] = df_new2.Movie_Page_y[i]\n",
    "    i +=1\n",
    "# Then count the NaN cells to make sure there are none\n",
    "count = df_new2[\"Movie_Page_x\"].isna().sum()\n",
    "count"
   ]
  },
  {
   "cell_type": "markdown",
   "metadata": {},
   "source": [
    "For the 2019 and 2020 ranked movies, filled in the year released in the Year_Released column."
   ]
  },
  {
   "cell_type": "code",
   "execution_count": 26,
   "metadata": {},
   "outputs": [],
   "source": [
    "for y in df_new2.index:\n",
    "    if pd.isna(df_new2['Year_Released'][y]) == True and pd.isna(df_new2['2019_Rank'][y]) == False:\n",
    "        df_new2.Year_Released[y] = 2019\n",
    "        \n",
    "for y in df_new2.index:\n",
    "    if pd.isna(df_new2['Year_Released'][y]) == True and pd.isna(df_new2['2020_Rank'][y]) == False:\n",
    "        df_new2.Year_Released[y] = 2020"
   ]
  },
  {
   "cell_type": "markdown",
   "metadata": {},
   "source": [
    "Scrape the web site for the domestic gross, budget, MPAA rating and genres of each movie."
   ]
  },
  {
   "cell_type": "code",
   "execution_count": 215,
   "metadata": {},
   "outputs": [],
   "source": [
    "movie_url_list = []\n",
    "gross_master_list = []\n",
    "budget_master_list = []\n",
    "mpaa_master_list = []\n",
    "genres_master_list = []\n",
    "\n",
    "j=0\n",
    "    \n",
    "for m in df_new2.Movie_Title:\n",
    "    movie_url = 'https://www.boxofficemojo.com' + df_new2.Movie_Page_x[j]\n",
    "#     movie_url_list.append(movie_url)\n",
    "    html_page5 = requests.get(movie_url)\n",
    "    soup5 = BeautifulSoup(html_page5.content, 'html.parser')\n",
    "    \n",
    "# the domestic gross from the first span tag\n",
    "    gross = soup5.find('span', class_=\"money\")\n",
    "    gross = str(gross)\n",
    "    gross = gross[20:-7]\n",
    "\n",
    "# the budget is not the first span tag with the money class, so it took extra steps\n",
    "    budget = soup5.find_all('span', text=re.compile('Budget')) \n",
    "    budget_parent = []\n",
    "    budget_parent = [budget.parent for budget in budget]\n",
    "    if not budget_parent:\n",
    "        budget_money = [np.nan]\n",
    "    else:\n",
    "        budget_parent_string = budget_parent[0]\n",
    "        budget_money = [m.text for m in budget_parent_string.findAll('span', class_=\"money\")]\n",
    "    budget_money_string = budget_money[0]\n",
    "\n",
    "# likewise for MPAA rating\n",
    "    mpaa = soup5.find_all('span', text=re.compile('MPAA'))\n",
    "    mpaa_parent = []\n",
    "    mpaa_parent = [mpaa.parent for mpaa in mpaa]\n",
    "    if not mpaa_parent:\n",
    "        mpaa_rating = [np.nan, np.nan]\n",
    "    else:\n",
    "        mpaa_parent_string = mpaa_parent[0]\n",
    "        mpaa_rating = [m.text for m in mpaa_parent_string.findAll('span')]\n",
    "    mpaa_rating_string = mpaa_rating[1]\n",
    "\n",
    "# #likewise for genres\n",
    "    genres = soup5.find_all('span', text=re.compile('Genres')) \n",
    "    genres_parent = []\n",
    "    genres_parent = [genres.parent for genres in genres]\n",
    "    if not genres_parent:\n",
    "        genres_categories = [np.nan, np.nan]\n",
    "    else:\n",
    "        genres_parent_string = genres_parent[0]\n",
    "        genres_categories = [m.text for m in genres_parent_string.findAll('span')]\n",
    "    genres_categories_string = genres_categories[1]\n",
    "\n",
    "    gross_master_list.append(gross)\n",
    "    budget_master_list.append(budget_money_string)\n",
    "    mpaa_master_list.append(mpaa_rating_string)\n",
    "    genres_master_list.append(genres_categories_string)\n",
    "    \n",
    "    j += 1\n",
    "    if j > 550:\n",
    "        break\n",
    " "
   ]
  },
  {
   "cell_type": "markdown",
   "metadata": {},
   "source": [
    "Check the length of the lists."
   ]
  },
  {
   "cell_type": "code",
   "execution_count": 44,
   "metadata": {},
   "outputs": [
    {
     "data": {
      "text/plain": [
       "(551, 551, 551, 551)"
      ]
     },
     "execution_count": 44,
     "metadata": {},
     "output_type": "execute_result"
    }
   ],
   "source": [
    "len(gross_master_list), len(budget_master_list), len(mpaa_master_list), len(genres_master_list)"
   ]
  },
  {
   "cell_type": "markdown",
   "metadata": {},
   "source": [
    "Check the format of the items in the genres_master_list."
   ]
  },
  {
   "cell_type": "code",
   "execution_count": 45,
   "metadata": {},
   "outputs": [
    {
     "data": {
      "text/plain": [
       "'Action\\n    \\n        Adventure\\n    \\n        Drama\\n    \\n        Sci-Fi'"
      ]
     },
     "execution_count": 45,
     "metadata": {},
     "output_type": "execute_result"
    }
   ],
   "source": [
    "genres_master_list[0]"
   ]
  },
  {
   "cell_type": "markdown",
   "metadata": {},
   "source": [
    "Make the genre categories for each movie a list."
   ]
  },
  {
   "cell_type": "code",
   "execution_count": 46,
   "metadata": {},
   "outputs": [
    {
     "data": {
      "text/plain": [
       "[['Action', 'Adventure', 'Drama', 'Sci-Fi'],\n",
       " ['Action', 'Adventure', 'Fantasy', 'Sci-Fi'],\n",
       " ['Drama', 'Romance'],\n",
       " ['Action', 'Adventure', 'Sci-Fi'],\n",
       " ['Action', 'Adventure', 'Sci-Fi']]"
      ]
     },
     "execution_count": 46,
     "metadata": {},
     "output_type": "execute_result"
    }
   ],
   "source": [
    "movie_genres_list = []\n",
    "genres_master_list_split = []\n",
    "for x in genres_master_list:\n",
    "    if type(x) == str:\n",
    "        movie_genres_list = list(x.split(\"\\n    \\n        \"))\n",
    "    else:\n",
    "        movie_genres_list = []\n",
    "    genres_master_list_split.append(movie_genres_list)\n",
    "genres_master_list_split[:5]"
   ]
  },
  {
   "cell_type": "markdown",
   "metadata": {},
   "source": [
    "Add lists of scraped data to the master dataframe."
   ]
  },
  {
   "cell_type": "code",
   "execution_count": 47,
   "metadata": {},
   "outputs": [
    {
     "data": {
      "text/html": [
       "<div>\n",
       "<style scoped>\n",
       "    .dataframe tbody tr th:only-of-type {\n",
       "        vertical-align: middle;\n",
       "    }\n",
       "\n",
       "    .dataframe tbody tr th {\n",
       "        vertical-align: top;\n",
       "    }\n",
       "\n",
       "    .dataframe thead th {\n",
       "        text-align: right;\n",
       "    }\n",
       "</style>\n",
       "<table border=\"1\" class=\"dataframe\">\n",
       "  <thead>\n",
       "    <tr style=\"text-align: right;\">\n",
       "      <th></th>\n",
       "      <th>Lifetime_Rank</th>\n",
       "      <th>Movie_Title</th>\n",
       "      <th>Movie_Page_x</th>\n",
       "      <th>Lifetime_Gross</th>\n",
       "      <th>Year_Released</th>\n",
       "      <th>2019_Rank</th>\n",
       "      <th>Movie_Page_y</th>\n",
       "      <th>2019_Gross</th>\n",
       "      <th>2020_Rank</th>\n",
       "      <th>Movie_Page</th>\n",
       "      <th>2020_Gross</th>\n",
       "      <th>Domestic_Gross</th>\n",
       "      <th>Budget</th>\n",
       "      <th>MPAA</th>\n",
       "      <th>Genres</th>\n",
       "    </tr>\n",
       "  </thead>\n",
       "  <tbody>\n",
       "    <tr>\n",
       "      <th>0</th>\n",
       "      <td>1</td>\n",
       "      <td>Avengers: Endgame</td>\n",
       "      <td>/title/tt4154796/?ref_=bo_cso_table_1</td>\n",
       "      <td>$2,797,800,564</td>\n",
       "      <td>2019</td>\n",
       "      <td>1</td>\n",
       "      <td>/release/rl3059975681/?ref_=bo_yld_table_1</td>\n",
       "      <td>$858,373,000</td>\n",
       "      <td>NaN</td>\n",
       "      <td>NaN</td>\n",
       "      <td>NaN</td>\n",
       "      <td>$858,373,000</td>\n",
       "      <td>$356,000,000</td>\n",
       "      <td>PG-13</td>\n",
       "      <td>[Action, Adventure, Drama, Sci-Fi]</td>\n",
       "    </tr>\n",
       "    <tr>\n",
       "      <th>1</th>\n",
       "      <td>2</td>\n",
       "      <td>Avatar</td>\n",
       "      <td>/title/tt0499549/?ref_=bo_cso_table_2</td>\n",
       "      <td>$2,790,439,092</td>\n",
       "      <td>2009</td>\n",
       "      <td>NaN</td>\n",
       "      <td>NaN</td>\n",
       "      <td>NaN</td>\n",
       "      <td>NaN</td>\n",
       "      <td>NaN</td>\n",
       "      <td>NaN</td>\n",
       "      <td>$760,507,625</td>\n",
       "      <td>$237,000,000</td>\n",
       "      <td>PG-13</td>\n",
       "      <td>[Action, Adventure, Fantasy, Sci-Fi]</td>\n",
       "    </tr>\n",
       "    <tr>\n",
       "      <th>2</th>\n",
       "      <td>3</td>\n",
       "      <td>Titanic</td>\n",
       "      <td>/title/tt0120338/?ref_=bo_cso_table_3</td>\n",
       "      <td>$2,471,754,307</td>\n",
       "      <td>1997</td>\n",
       "      <td>NaN</td>\n",
       "      <td>NaN</td>\n",
       "      <td>NaN</td>\n",
       "      <td>NaN</td>\n",
       "      <td>NaN</td>\n",
       "      <td>NaN</td>\n",
       "      <td>$659,363,944</td>\n",
       "      <td>$200,000,000</td>\n",
       "      <td>PG-13</td>\n",
       "      <td>[Drama, Romance]</td>\n",
       "    </tr>\n",
       "    <tr>\n",
       "      <th>3</th>\n",
       "      <td>4</td>\n",
       "      <td>Star Wars: Episode VII - The Force Awakens</td>\n",
       "      <td>/title/tt2488496/?ref_=bo_cso_table_4</td>\n",
       "      <td>$2,068,454,310</td>\n",
       "      <td>2015</td>\n",
       "      <td>NaN</td>\n",
       "      <td>NaN</td>\n",
       "      <td>NaN</td>\n",
       "      <td>NaN</td>\n",
       "      <td>NaN</td>\n",
       "      <td>NaN</td>\n",
       "      <td>$936,662,225</td>\n",
       "      <td>$245,000,000</td>\n",
       "      <td>PG-13</td>\n",
       "      <td>[Action, Adventure, Sci-Fi]</td>\n",
       "    </tr>\n",
       "    <tr>\n",
       "      <th>4</th>\n",
       "      <td>5</td>\n",
       "      <td>Avengers: Infinity War</td>\n",
       "      <td>/title/tt4154756/?ref_=bo_cso_table_5</td>\n",
       "      <td>$2,048,359,754</td>\n",
       "      <td>2018</td>\n",
       "      <td>NaN</td>\n",
       "      <td>NaN</td>\n",
       "      <td>NaN</td>\n",
       "      <td>NaN</td>\n",
       "      <td>NaN</td>\n",
       "      <td>NaN</td>\n",
       "      <td>$678,815,482</td>\n",
       "      <td>None</td>\n",
       "      <td>PG-13</td>\n",
       "      <td>[Action, Adventure, Sci-Fi]</td>\n",
       "    </tr>\n",
       "  </tbody>\n",
       "</table>\n",
       "</div>"
      ],
      "text/plain": [
       "  Lifetime_Rank                                 Movie_Title  \\\n",
       "0             1                           Avengers: Endgame   \n",
       "1             2                                      Avatar   \n",
       "2             3                                     Titanic   \n",
       "3             4  Star Wars: Episode VII - The Force Awakens   \n",
       "4             5                      Avengers: Infinity War   \n",
       "\n",
       "                            Movie_Page_x  Lifetime_Gross Year_Released  \\\n",
       "0  /title/tt4154796/?ref_=bo_cso_table_1  $2,797,800,564          2019   \n",
       "1  /title/tt0499549/?ref_=bo_cso_table_2  $2,790,439,092          2009   \n",
       "2  /title/tt0120338/?ref_=bo_cso_table_3  $2,471,754,307          1997   \n",
       "3  /title/tt2488496/?ref_=bo_cso_table_4  $2,068,454,310          2015   \n",
       "4  /title/tt4154756/?ref_=bo_cso_table_5  $2,048,359,754          2018   \n",
       "\n",
       "  2019_Rank                                Movie_Page_y    2019_Gross  \\\n",
       "0         1  /release/rl3059975681/?ref_=bo_yld_table_1  $858,373,000   \n",
       "1       NaN                                         NaN           NaN   \n",
       "2       NaN                                         NaN           NaN   \n",
       "3       NaN                                         NaN           NaN   \n",
       "4       NaN                                         NaN           NaN   \n",
       "\n",
       "  2020_Rank Movie_Page 2020_Gross Domestic_Gross        Budget   MPAA  \\\n",
       "0       NaN        NaN        NaN   $858,373,000  $356,000,000  PG-13   \n",
       "1       NaN        NaN        NaN   $760,507,625  $237,000,000  PG-13   \n",
       "2       NaN        NaN        NaN   $659,363,944  $200,000,000  PG-13   \n",
       "3       NaN        NaN        NaN   $936,662,225  $245,000,000  PG-13   \n",
       "4       NaN        NaN        NaN   $678,815,482          None  PG-13   \n",
       "\n",
       "                                 Genres  \n",
       "0    [Action, Adventure, Drama, Sci-Fi]  \n",
       "1  [Action, Adventure, Fantasy, Sci-Fi]  \n",
       "2                      [Drama, Romance]  \n",
       "3           [Action, Adventure, Sci-Fi]  \n",
       "4           [Action, Adventure, Sci-Fi]  "
      ]
     },
     "execution_count": 47,
     "metadata": {},
     "output_type": "execute_result"
    }
   ],
   "source": [
    "df_new2['Domestic_Gross']= gross_master_list\n",
    "df_new2['Budget'] = budget_master_list\n",
    "df_new2['MPAA'] = mpaa_master_list\n",
    "df_new2['Genres'] = genres_master_list_split\n",
    "df_new2.head()"
   ]
  },
  {
   "cell_type": "code",
   "execution_count": null,
   "metadata": {},
   "outputs": [],
   "source": [
    "Deleted unnecessary columns to streamline the database and prevent complications when saving to sqlite"
   ]
  },
  {
   "cell_type": "code",
   "execution_count": 48,
   "metadata": {},
   "outputs": [
    {
     "data": {
      "text/html": [
       "<div>\n",
       "<style scoped>\n",
       "    .dataframe tbody tr th:only-of-type {\n",
       "        vertical-align: middle;\n",
       "    }\n",
       "\n",
       "    .dataframe tbody tr th {\n",
       "        vertical-align: top;\n",
       "    }\n",
       "\n",
       "    .dataframe thead th {\n",
       "        text-align: right;\n",
       "    }\n",
       "</style>\n",
       "<table border=\"1\" class=\"dataframe\">\n",
       "  <thead>\n",
       "    <tr style=\"text-align: right;\">\n",
       "      <th></th>\n",
       "      <th>Movie_Title</th>\n",
       "      <th>Movie_Page_x</th>\n",
       "      <th>Year_Released</th>\n",
       "      <th>Domestic_Gross</th>\n",
       "      <th>Budget</th>\n",
       "      <th>MPAA</th>\n",
       "      <th>Genres</th>\n",
       "    </tr>\n",
       "  </thead>\n",
       "  <tbody>\n",
       "    <tr>\n",
       "      <th>546</th>\n",
       "      <td>Extra Ordinary</td>\n",
       "      <td>/release/rl2562359809/?ref_=bo_yld_table_196</td>\n",
       "      <td>2020</td>\n",
       "      <td>$164,346</td>\n",
       "      <td>None</td>\n",
       "      <td>R</td>\n",
       "      <td>[Comedy, Fantasy, Horror]</td>\n",
       "    </tr>\n",
       "    <tr>\n",
       "      <th>547</th>\n",
       "      <td>Palm Springs</td>\n",
       "      <td>/release/rl3175187201/?ref_=bo_yld_table_197</td>\n",
       "      <td>2020</td>\n",
       "      <td>$164,000</td>\n",
       "      <td>None</td>\n",
       "      <td>R</td>\n",
       "      <td>[Comedy, Fantasy, Mystery, Romance]</td>\n",
       "    </tr>\n",
       "    <tr>\n",
       "      <th>548</th>\n",
       "      <td>A Call to Spy</td>\n",
       "      <td>/release/rl3796140801/?ref_=bo_yld_table_198</td>\n",
       "      <td>2020</td>\n",
       "      <td>$159,014</td>\n",
       "      <td>None</td>\n",
       "      <td>PG-13</td>\n",
       "      <td>[Biography, Crime, Drama, Thriller, War]</td>\n",
       "    </tr>\n",
       "    <tr>\n",
       "      <th>549</th>\n",
       "      <td>Love Story50th Anniversary</td>\n",
       "      <td>/release/rl934707713/?ref_=bo_yld_table_199</td>\n",
       "      <td>2020</td>\n",
       "      <td>$153,504</td>\n",
       "      <td>None</td>\n",
       "      <td>PG</td>\n",
       "      <td>[Drama, Romance]</td>\n",
       "    </tr>\n",
       "    <tr>\n",
       "      <th>550</th>\n",
       "      <td>The Dark and the Wicked</td>\n",
       "      <td>/release/rl4015883009/?ref_=bo_yld_table_200</td>\n",
       "      <td>2020</td>\n",
       "      <td>$156,552</td>\n",
       "      <td>None</td>\n",
       "      <td>None</td>\n",
       "      <td>[Horror]</td>\n",
       "    </tr>\n",
       "  </tbody>\n",
       "</table>\n",
       "</div>"
      ],
      "text/plain": [
       "                    Movie_Title                                  Movie_Page_x  \\\n",
       "546              Extra Ordinary  /release/rl2562359809/?ref_=bo_yld_table_196   \n",
       "547                Palm Springs  /release/rl3175187201/?ref_=bo_yld_table_197   \n",
       "548               A Call to Spy  /release/rl3796140801/?ref_=bo_yld_table_198   \n",
       "549  Love Story50th Anniversary   /release/rl934707713/?ref_=bo_yld_table_199   \n",
       "550     The Dark and the Wicked  /release/rl4015883009/?ref_=bo_yld_table_200   \n",
       "\n",
       "    Year_Released Domestic_Gross Budget   MPAA  \\\n",
       "546          2020       $164,346   None      R   \n",
       "547          2020       $164,000   None      R   \n",
       "548          2020       $159,014   None  PG-13   \n",
       "549          2020       $153,504   None     PG   \n",
       "550          2020       $156,552   None   None   \n",
       "\n",
       "                                       Genres  \n",
       "546                 [Comedy, Fantasy, Horror]  \n",
       "547       [Comedy, Fantasy, Mystery, Romance]  \n",
       "548  [Biography, Crime, Drama, Thriller, War]  \n",
       "549                          [Drama, Romance]  \n",
       "550                                  [Horror]  "
      ]
     },
     "execution_count": 48,
     "metadata": {},
     "output_type": "execute_result"
    }
   ],
   "source": [
    "del df_new2['2019_Rank']\n",
    "del df_new2['2019_Gross']\n",
    "del df_new2['2020_Rank']\n",
    "del df_new2['2020_Gross']\n",
    "del df_new2['Movie_Page']\n",
    "del df_new2['Movie_Page_y']\n",
    "del df_new2['Lifetime_Gross']\n",
    "del df_new2['Lifetime_Rank']\n",
    "\n",
    "df_new2.tail()"
   ]
  },
  {
   "cell_type": "markdown",
   "metadata": {},
   "source": [
    "Put the scraped data in a dataframe so that it can be saved as a sqlite db. I don't want to do the scraping over and rehit the web site unnecessarily."
   ]
  },
  {
   "cell_type": "code",
   "execution_count": 49,
   "metadata": {},
   "outputs": [
    {
     "data": {
      "text/html": [
       "<div>\n",
       "<style scoped>\n",
       "    .dataframe tbody tr th:only-of-type {\n",
       "        vertical-align: middle;\n",
       "    }\n",
       "\n",
       "    .dataframe tbody tr th {\n",
       "        vertical-align: top;\n",
       "    }\n",
       "\n",
       "    .dataframe thead th {\n",
       "        text-align: right;\n",
       "    }\n",
       "</style>\n",
       "<table border=\"1\" class=\"dataframe\">\n",
       "  <thead>\n",
       "    <tr style=\"text-align: right;\">\n",
       "      <th></th>\n",
       "      <th>Domestic_Gross</th>\n",
       "      <th>Budget</th>\n",
       "      <th>MPAA</th>\n",
       "      <th>Genres</th>\n",
       "    </tr>\n",
       "  </thead>\n",
       "  <tbody>\n",
       "    <tr>\n",
       "      <th>0</th>\n",
       "      <td>$858,373,000</td>\n",
       "      <td>$356,000,000</td>\n",
       "      <td>PG-13</td>\n",
       "      <td>Action\\n    \\n        Adventure\\n    \\n       ...</td>\n",
       "    </tr>\n",
       "    <tr>\n",
       "      <th>1</th>\n",
       "      <td>$760,507,625</td>\n",
       "      <td>$237,000,000</td>\n",
       "      <td>PG-13</td>\n",
       "      <td>Action\\n    \\n        Adventure\\n    \\n       ...</td>\n",
       "    </tr>\n",
       "    <tr>\n",
       "      <th>2</th>\n",
       "      <td>$659,363,944</td>\n",
       "      <td>$200,000,000</td>\n",
       "      <td>PG-13</td>\n",
       "      <td>Drama\\n    \\n        Romance</td>\n",
       "    </tr>\n",
       "    <tr>\n",
       "      <th>3</th>\n",
       "      <td>$936,662,225</td>\n",
       "      <td>$245,000,000</td>\n",
       "      <td>PG-13</td>\n",
       "      <td>Action\\n    \\n        Adventure\\n    \\n       ...</td>\n",
       "    </tr>\n",
       "    <tr>\n",
       "      <th>4</th>\n",
       "      <td>$678,815,482</td>\n",
       "      <td>None</td>\n",
       "      <td>PG-13</td>\n",
       "      <td>Action\\n    \\n        Adventure\\n    \\n       ...</td>\n",
       "    </tr>\n",
       "  </tbody>\n",
       "</table>\n",
       "</div>"
      ],
      "text/plain": [
       "  Domestic_Gross        Budget   MPAA  \\\n",
       "0   $858,373,000  $356,000,000  PG-13   \n",
       "1   $760,507,625  $237,000,000  PG-13   \n",
       "2   $659,363,944  $200,000,000  PG-13   \n",
       "3   $936,662,225  $245,000,000  PG-13   \n",
       "4   $678,815,482          None  PG-13   \n",
       "\n",
       "                                              Genres  \n",
       "0  Action\\n    \\n        Adventure\\n    \\n       ...  \n",
       "1  Action\\n    \\n        Adventure\\n    \\n       ...  \n",
       "2                       Drama\\n    \\n        Romance  \n",
       "3  Action\\n    \\n        Adventure\\n    \\n       ...  \n",
       "4  Action\\n    \\n        Adventure\\n    \\n       ...  "
      ]
     },
     "execution_count": 49,
     "metadata": {},
     "output_type": "execute_result"
    }
   ],
   "source": [
    "df_scraped_data = pd.DataFrame(list(zip(gross_master_list, budget_master_list, mpaa_master_list, genres_master_list)), \n",
    "               columns =['Domestic_Gross', 'Budget', 'MPAA', 'Genres']) \n",
    "df_scraped_data.head()"
   ]
  },
  {
   "cell_type": "markdown",
   "metadata": {},
   "source": [
    "Create a sqlite db to and put the scraped data in it."
   ]
  },
  {
   "cell_type": "code",
   "execution_count": 50,
   "metadata": {},
   "outputs": [],
   "source": [
    "conn = sqlite3.connect('scraped_data2.db') \n",
    "c = conn.cursor()\n",
    "\n",
    "c.execute('CREATE TABLE scraped_data2 (Domestic_Gross, Budget, MPAA, Genres)')\n",
    "conn.commit()\n",
    "\n",
    "df_scraped_data.to_sql('scraped_data2', conn, if_exists='replace', index = False)\n"
   ]
  },
  {
   "cell_type": "code",
   "execution_count": 51,
   "metadata": {},
   "outputs": [
    {
     "data": {
      "text/html": [
       "<div>\n",
       "<style scoped>\n",
       "    .dataframe tbody tr th:only-of-type {\n",
       "        vertical-align: middle;\n",
       "    }\n",
       "\n",
       "    .dataframe tbody tr th {\n",
       "        vertical-align: top;\n",
       "    }\n",
       "\n",
       "    .dataframe thead th {\n",
       "        text-align: right;\n",
       "    }\n",
       "</style>\n",
       "<table border=\"1\" class=\"dataframe\">\n",
       "  <thead>\n",
       "    <tr style=\"text-align: right;\">\n",
       "      <th></th>\n",
       "      <th>Domestic_Gross</th>\n",
       "      <th>Budget</th>\n",
       "      <th>MPAA</th>\n",
       "      <th>Genres</th>\n",
       "    </tr>\n",
       "  </thead>\n",
       "  <tbody>\n",
       "    <tr>\n",
       "      <th>0</th>\n",
       "      <td>$858,373,000</td>\n",
       "      <td>$356,000,000</td>\n",
       "      <td>PG-13</td>\n",
       "      <td>Action\\n    \\n        Adventure\\n    \\n       ...</td>\n",
       "    </tr>\n",
       "    <tr>\n",
       "      <th>1</th>\n",
       "      <td>$760,507,625</td>\n",
       "      <td>$237,000,000</td>\n",
       "      <td>PG-13</td>\n",
       "      <td>Action\\n    \\n        Adventure\\n    \\n       ...</td>\n",
       "    </tr>\n",
       "    <tr>\n",
       "      <th>2</th>\n",
       "      <td>$659,363,944</td>\n",
       "      <td>$200,000,000</td>\n",
       "      <td>PG-13</td>\n",
       "      <td>Drama\\n    \\n        Romance</td>\n",
       "    </tr>\n",
       "    <tr>\n",
       "      <th>3</th>\n",
       "      <td>$936,662,225</td>\n",
       "      <td>$245,000,000</td>\n",
       "      <td>PG-13</td>\n",
       "      <td>Action\\n    \\n        Adventure\\n    \\n       ...</td>\n",
       "    </tr>\n",
       "    <tr>\n",
       "      <th>4</th>\n",
       "      <td>$678,815,482</td>\n",
       "      <td>None</td>\n",
       "      <td>PG-13</td>\n",
       "      <td>Action\\n    \\n        Adventure\\n    \\n       ...</td>\n",
       "    </tr>\n",
       "  </tbody>\n",
       "</table>\n",
       "</div>"
      ],
      "text/plain": [
       "  Domestic_Gross        Budget   MPAA  \\\n",
       "0   $858,373,000  $356,000,000  PG-13   \n",
       "1   $760,507,625  $237,000,000  PG-13   \n",
       "2   $659,363,944  $200,000,000  PG-13   \n",
       "3   $936,662,225  $245,000,000  PG-13   \n",
       "4   $678,815,482          None  PG-13   \n",
       "\n",
       "                                              Genres  \n",
       "0  Action\\n    \\n        Adventure\\n    \\n       ...  \n",
       "1  Action\\n    \\n        Adventure\\n    \\n       ...  \n",
       "2                       Drama\\n    \\n        Romance  \n",
       "3  Action\\n    \\n        Adventure\\n    \\n       ...  \n",
       "4  Action\\n    \\n        Adventure\\n    \\n       ...  "
      ]
     },
     "execution_count": 51,
     "metadata": {},
     "output_type": "execute_result"
    }
   ],
   "source": [
    "cnx = sqlite3.connect('scraped_data2.db')\n",
    "\n",
    "df_imported = pd.read_sql_query(\"SELECT * FROM scraped_data2\", cnx)\n",
    "df_imported.head()"
   ]
  },
  {
   "cell_type": "markdown",
   "metadata": {},
   "source": [
    "Checked the format of the data in the Domestic Gross column."
   ]
  },
  {
   "cell_type": "code",
   "execution_count": 52,
   "metadata": {},
   "outputs": [
    {
     "data": {
      "text/plain": [
       "0    $858,373,000\n",
       "1    $760,507,625\n",
       "2    $659,363,944\n",
       "3    $936,662,225\n",
       "4    $678,815,482\n",
       "Name: Domestic_Gross, dtype: object"
      ]
     },
     "execution_count": 52,
     "metadata": {},
     "output_type": "execute_result"
    }
   ],
   "source": [
    "df_new2['Domestic_Gross'][:5]"
   ]
  },
  {
   "cell_type": "markdown",
   "metadata": {},
   "source": [
    "Converted strings in Domestic Gross and Budget columns to integers, removing the commas and dollar signs."
   ]
  },
  {
   "cell_type": "code",
   "execution_count": 223,
   "metadata": {},
   "outputs": [
    {
     "data": {
      "text/plain": [
       "0    858373000\n",
       "1    760507625\n",
       "2    659363944\n",
       "3    936662225\n",
       "4    678815482\n",
       "Name: Domestic_Gross, dtype: object"
      ]
     },
     "execution_count": 223,
     "metadata": {},
     "output_type": "execute_result"
    }
   ],
   "source": [
    "i = 0\n",
    "for y in df_new2:\n",
    "    df_new2['Domestic_Gross'][i] = df_new2['Domestic_Gross'][i].replace(',', '')\n",
    "    df_new2['Domestic_Gross'][i] = df_new2['Domestic_Gross'][i].replace('$', '')\n",
    "    i +=1\n",
    "df_new2['Domestic_Gross'][:5]"
   ]
  },
  {
   "cell_type": "code",
   "execution_count": 138,
   "metadata": {},
   "outputs": [
    {
     "data": {
      "text/plain": [
       "0    356000000\n",
       "1    237000000\n",
       "2    200000000\n",
       "3    245000000\n",
       "4         None\n",
       "Name: Budget, dtype: object"
      ]
     },
     "execution_count": 138,
     "metadata": {},
     "output_type": "execute_result"
    }
   ],
   "source": [
    "i = 0\n",
    "for y in df_new2:\n",
    "    if type(df_new2['Budget'][i]) == str:\n",
    "        df_new2['Budget'][i] = df_new2['Budget'][i].replace(',', '')\n",
    "        df_new2['Budget'][i] = df_new2['Budget'][i].replace('$', '')\n",
    "    i += 1\n",
    "df_new2['Budget'][:5]"
   ]
  },
  {
   "cell_type": "markdown",
   "metadata": {},
   "source": [
    "Checked the data."
   ]
  },
  {
   "cell_type": "code",
   "execution_count": 222,
   "metadata": {},
   "outputs": [
    {
     "name": "stdout",
     "output_type": "stream",
     "text": [
      "0 <class 'str'> 858373000\n",
      "1 <class 'str'> 760507625\n",
      "2 <class 'str'> 659363944\n",
      "3 <class 'str'> 936662225\n",
      "4 <class 'str'> 678815482\n",
      "5 <class 'str'> 652385625\n",
      "6 <class 'str'> 543638043\n",
      "7 <class 'str'> 422783777\n",
      "8 <class 'str'> 623357910\n",
      "9 <class 'str'> 353007020\n",
      "10 <class 'str'> 477373578\n",
      "11 <class 'str'> 459005868\n",
      "12 <class 'str'> 700426566\n",
      "13 <class 'str'> 381409310\n",
      "14 <class 'str'> 620181382\n",
      "15 <class 'str'> 417719760\n",
      "16 <class 'str'> 400953009\n",
      "17 <class 'str'> 504481165\n",
      "18 <class 'str'> 608581744\n",
      "19 <class 'str'> 226008385\n",
      "20 <class 'str'> 409013994\n",
      "21 <class 'str'> 336045770\n",
      "22 <class 'str'> 408084349\n",
      "23 <class 'str'> 335061807\n",
      "24 <class 'str'> 377845905\n",
      "25 <class 'str'> 390532085\n",
      "26 <class 'str'> 426829839\n",
      "27 <class 'str'> 352390543\n",
      "28 <class 'str'> 304360277\n",
      "29 <class 'str'> 173956935\n",
      "30 <class 'str'> 245439076\n",
      "31 <class 'str'> 448139099\n",
      "32 <class 'str'> 335451311\n",
      "33 <class 'str'> 515202542\n",
      "34 <class 'str'> 434038008\n",
      "35 <class 'str'> 415004880\n",
      "36 <class 'str'> 423315812\n",
      "37 <class 'str'> 532177324\n",
      "38 <class 'str'> 355559216\n",
      "39 <class 'str'> 241071802\n",
      "40 <class 'str'> 264624300\n",
      "41 <class 'str'> 404214720\n",
      "42 <class 'str'> 486295561\n",
      "43 <class 'str'> 474544677\n",
      "44 <class 'str'> 334191110\n",
      "45 <class 'str'> 341268248\n",
      "46 <class 'str'> 303003568\n",
      "47 <class 'str'> 318087620\n",
      "48 <class 'str'> 534858444\n",
      "49 <class 'str'> 296347721\n",
      "50 <class 'str'> 368065385\n",
      "51 <class 'str'> 364001123\n",
      "52 <class 'str'> 404540171\n",
      "53 <class 'str'> 309420425\n",
      "54 <class 'str'> 258366855\n",
      "55 <class 'str'> 255119788\n",
      "56 <class 'str'> 342551365\n",
      "57 <class 'str'> 292353413\n",
      "58 <class 'str'> 380843261\n",
      "59 <class 'str'> 302305431\n",
      "60 <class 'str'> 441226247\n",
      "61 <class 'str'> 216668042\n",
      "62 <class 'str'> 290417905\n",
      "63 <class 'str'> 336530303\n",
      "64 <class 'str'> 315544750\n",
      "65 <class 'str'> 196573705\n",
      "66 <class 'str'> 200074609\n",
      "67 <class 'str'> 334201140\n",
      "68 <class 'str'> 262450136\n",
      "69 <class 'str'> 161321843\n",
      "70 <class 'str'> 368384330\n",
      "71 <class 'str'> 330360194\n",
      "72 <class 'str'> 2721100\n",
      "73 <class 'str'> 380270577\n",
      "74 <class 'str'> 424668047\n",
      "75 <class 'str'> 389813101\n",
      "76 <class 'str'> 356921711\n",
      "77 <class 'str'> 213515506\n",
      "78 <class 'str'> 315058289\n",
      "79 <class 'str'> 292576195\n",
      "80 <class 'str'> 402111870\n",
      "81 <class 'str'> 292324737\n",
      "82 <class 'str'> 407022860\n",
      "83 <class 'str'> 412815408\n",
      "84 <class 'str'> 306169268\n",
      "85 <class 'str'> 234037575\n",
      "86 <class 'str'> 322719944\n",
      "87 <class 'str'> 210460015\n",
      "88 <class 'str'> 320314960\n",
      "89 <class 'str'> 249975996\n",
      "90 <class 'str'> 172558876\n",
      "91 <class 'str'> 435110554\n",
      "92 <class 'str'> 166112167\n",
      "93 <class 'str'> 220159104\n",
      "94 <class 'str'> 317101119\n",
      "95 <class 'str'> 373585825\n",
      "96 <class 'str'> 238679850\n",
      "97 <class 'str'> 324591735\n",
      "98 <class 'str'> 363070709\n",
      "99 <class 'str'> 460998507\n",
      "100 <class 'str'> 333718600\n",
      "101 <class 'str'> 217536138\n",
      "102 <class 'str'> 241410378\n",
      "103 <class 'str'> 262030663\n",
      "104 <class 'str'> 337135885\n",
      "105 <class 'str'> 238736787\n",
      "106 <class 'str'> 216391482\n",
      "107 <class 'str'> 325100054\n",
      "108 <class 'str'> 233921534\n",
      "109 <class 'str'> 291710957\n",
      "110 <class 'str'> 268492764\n",
      "111 <class 'str'> 281576461\n",
      "112 <class 'str'> 293004164\n",
      "113 <class 'str'> 3695533\n",
      "114 <class 'str'> 274092705\n",
      "115 <class 'str'> 259766572\n",
      "116 <class 'str'> 281287133\n",
      "117 <class 'str'> 297816253\n",
      "118 <class 'str'> 208545589\n",
      "119 <class 'str'> 319246193\n",
      "120 <class 'str'> 202853933\n",
      "121 <class 'str'> 328828874\n",
      "122 <class 'str'> 188020017\n",
      "123 <class 'str'> 5971413\n",
      "124 <class 'str'> 300531751\n",
      "125 <class 'str'> 209397903\n",
      "126 <class 'str'> 408010692\n",
      "127 <class 'str'> 211593228\n",
      "128 <class 'str'> 195042377\n",
      "129 <class 'str'> 330455270\n",
      "130 <class 'str'> 232641920\n",
      "131 <class 'str'> 293506292\n",
      "132 <class 'str'> 291045518\n",
      "133 <class 'str'> 195330621\n",
      "134 <class 'str'> 165249063\n",
      "135 <class 'str'> 281723902\n",
      "136 <class 'str'> 229024295\n",
      "137 <class 'str'> 222527828\n",
      "138 <class 'str'> 159555901\n",
      "139 <class 'str'> 305413918\n",
      "140 <class 'str'> 310676740\n",
      "141 <class 'str'> 206362140\n",
      "142 <class 'str'> 248757044\n",
      "143 <class 'str'> 270448425\n",
      "144 <class 'str'> 215434591\n",
      "145 <class 'str'> 261441092\n",
      "146 <class 'str'> 228433663\n",
      "147 <class 'str'> 227946274\n",
      "148 <class 'str'> 209837675\n",
      "149 <class 'str'> 179020854\n",
      "150 <class 'str'> 312433331\n",
      "151 <class 'str'> 206445654\n",
      "152 <class 'str'> 216648740\n",
      "153 <class 'str'> 177002924\n",
      "154 <class 'str'> 226277068\n",
      "155 <class 'str'> 229086679\n",
      "156 <class 'str'> 167445960\n",
      "157 <class 'str'> 370782930\n",
      "158 <class 'str'> 144169664\n",
      "159 <class 'str'> 124987023\n",
      "160 <class 'str'> 130168683\n",
      "161 <class 'str'> 180010950\n",
      "162 <class 'str'> 234280354\n",
      "163 <class 'str'> 200821936\n",
      "164 <class 'str'> 168368427\n",
      "165 <class 'str'> 250690539\n",
      "166 <class 'str'> 187168425\n",
      "167 <class 'str'> 254464305\n",
      "168 <class 'str'> 319034126\n",
      "169 <class 'str'> 256393010\n",
      "170 <class 'str'> 137690172\n",
      "171 <class 'str'> 290642256\n",
      "172 <class 'str'> 1543547\n",
      "173 <class 'str'> 250863268\n",
      "174 <class 'str'> 166167230\n",
      "175 <class 'str'> 168052812\n",
      "176 <class 'str'> 142614158\n",
      "177 <class 'str'> 218080025\n",
      "178 <class 'str'> 191452396\n",
      "179 <class 'str'> 149260504\n",
      "180 <class 'str'> 3232685\n",
      "181 <class 'str'> 201578182\n",
      "182 <class 'str'> 186740799\n",
      "183 <class 'str'> 218815487\n",
      "184 <class 'str'> 350126372\n",
      "185 <class 'str'> 215409889\n",
      "186 <class 'str'> 1983984\n",
      "187 <class 'str'> 155442489\n",
      "188 <class 'str'> 186848418\n",
      "189 <class 'str'> 251513985\n",
      "190 <class 'str'> 201151353\n",
      "191 <class 'str'> 193595521\n",
      "192 <class 'str'> 202359711\n",
      "193 <class 'str'> 237283207\n",
      "194 <class 'str'> 292753960\n",
      "195 <class 'str'> 183135014\n",
      "196 <class 'str'> 183637894\n",
      "197 <class 'str'> 145443742\n",
      "198 <class 'str'> 201091711\n",
      "199 <class 'str'> 167510016\n",
      "200 <class 'str'> 175084580\n",
      "201 <class 'str'> 171015687\n",
      "202 <class 'str'> 160799505\n",
      "203 <class 'str'> 158874395\n",
      "204 <class 'str'> 144105346\n",
      "205 <class 'str'> 142502728\n",
      "206 <class 'str'> 140371656\n",
      "207 <class 'str'> 165363234\n",
      "208 <class 'str'> 114766307\n",
      "209 <class 'str'> 113929605\n",
      "210 <class 'str'> 111048468\n",
      "211 <class 'str'> 110500138\n",
      "212 <class 'str'> 108252517\n",
      "213 <class 'str'> 117624357\n",
      "214 <class 'str'> 105806508\n",
      "215 <class 'str'> 104963598\n",
      "216 <class 'str'> 100044905\n",
      "217 <class 'str'> 96854135\n",
      "218 <class 'str'> 96368160\n",
      "219 <class 'str'> 85838210\n",
      "220 <class 'str'> 83140306\n",
      "221 <class 'str'> 190241310\n",
      "222 <class 'str'> 80001807\n",
      "223 <class 'str'> 74152591\n",
      "224 <class 'str'> 73286650\n",
      "225 <class 'str'> 73257045\n",
      "226 <class 'str'> 73123082\n",
      "227 <class 'str'> 69030436\n",
      "228 <class 'str'> 68947075\n",
      "229 <class 'str'> 171958438\n",
      "230 <class 'str'> 65845974\n",
      "231 <class 'str'> 62253077\n",
      "232 <class 'str'> 60716390\n",
      "233 <class 'str'> 60477943\n",
      "234 <class 'str'> 57005601\n",
      "235 <class 'str'> 61704055\n",
      "236 <class 'str'> 56846802\n",
      "237 <class 'str'> 127195589\n",
      "238 <class 'str'> 54733739\n",
      "239 <class 'str'> 54724696\n",
      "240 <class 'str'> 54611903\n",
      "241 <class 'str'> 85080171\n",
      "242 <class 'str'> 50188370\n",
      "243 <class 'str'> 48791187\n",
      "244 <class 'str'> 48546770\n",
      "245 <class 'str'> 45896028\n",
      "246 <class 'str'> 45729221\n",
      "247 <class 'str'> 45216793\n",
      "248 <class 'str'> 44819352\n",
      "249 <class 'str'> 44451847\n",
      "250 <class 'str'> 43082155\n",
      "251 <class 'str'> 42004346\n",
      "252 <class 'str'> 41667116\n",
      "253 <class 'str'> 40860481\n",
      "254 <class 'str'> 43808310\n",
      "255 <class 'str'> 40713082\n",
      "256 <class 'str'> 103804407\n",
      "257 <class 'str'> 39014193\n",
      "258 <class 'str'> 108101214\n",
      "259 <class 'str'> 35419122\n",
      "260 <class 'str'> 35417038\n",
      "261 <class 'str'> 35150750\n",
      "262 <class 'str'> 34746945\n",
      "263 <class 'str'> 32138862\n",
      "264 <class 'str'> 31581712\n",
      "265 <class 'str'> 30712119\n",
      "266 <class 'str'> 30316271\n",
      "267 <class 'str'> 66757013\n",
      "268 <class 'str'> 29208403\n",
      "269 <class 'str'> 28714231\n",
      "270 <class 'str'> 28148130\n",
      "271 <class 'str'> 47836282\n",
      "272 <class 'str'> 28539757\n",
      "273 <class 'str'> 27426361\n",
      "274 <class 'str'> 26395642\n",
      "275 <class 'str'> 25621766\n",
      "276 <class 'str'> 50023780\n",
      "277 <class 'str'> 24313888\n",
      "278 <class 'str'> 22958886\n",
      "279 <class 'str'> 24622687\n",
      "280 <class 'str'> 22782371\n",
      "281 <class 'str'> 22680962\n",
      "282 <class 'str'> 53369749\n",
      "283 <class 'str'> 22370452\n",
      "284 <class 'str'> 22260900\n",
      "285 <class 'str'> 22055313\n",
      "286 <class 'str'> 21903748\n",
      "287 <class 'str'> 21360215\n",
      "288 <class 'str'> 33370906\n",
      "289 <class 'str'> 20457151\n",
      "290 <class 'str'> 20150241\n",
      "291 <class 'str'> 27166770\n",
      "292 <class 'str'> 19005109\n",
      "293 <class 'str'> 34366783\n",
      "294 <class 'str'> 31762808\n",
      "295 <class 'str'> 22345542\n",
      "296 <class 'str'> 17803077\n",
      "297 <class 'str'> 17695781\n",
      "298 <class 'str'> 17300439\n",
      "299 <class 'str'> 17156058\n",
      "300 <class 'str'> 16790790\n",
      "301 <class 'str'> 16649539\n",
      "302 <class 'str'> 39282227\n",
      "303 <class 'str'> 15499454\n",
      "304 <class 'str'> 15006824\n",
      "305 <class 'str'> 14856291\n",
      "306 <class 'str'> 215288866\n",
      "307 <class 'str'> 13631124\n",
      "308 <class 'str'> 14915773\n",
      "309 <class 'str'> 17956913\n",
      "310 <class 'str'> 12180032\n",
      "311 <class 'str'> 12138565\n",
      "312 <class 'str'> 11901145\n",
      "313 <class 'str'> 10867104\n",
      "314 <class 'str'> 11136084\n",
      "315 <class 'str'> 10532219\n",
      "316 <class 'str'> 10205616\n",
      "317 <class 'str'> 10429730\n",
      "318 <class 'str'> 9651611\n",
      "319 <class 'str'> 30573626\n",
      "320 <class 'str'> 9277736\n",
      "321 <class 'str'> 9270920\n",
      "322 <class 'str'> 9198356\n",
      "323 <class 'str'> 9039891\n",
      "324 <class 'str'> 8547045\n",
      "325 <class 'str'> 7743794\n",
      "326 <class 'str'> 7699452\n",
      "327 <class 'str'> 7189808\n",
      "328 <class 'str'> 16468499\n",
      "329 <class 'str'> 6563605\n",
      "330 <class 'str'> 6546159\n",
      "331 <class 'str'> 6424420\n",
      "332 <class 'str'> 17541090\n",
      "333 <class 'str'> 5979540\n",
      "334 <class 'str'> 5958315\n",
      "335 <class 'str'> 5801249\n",
      "336 <class 'str'> 5611123\n",
      "337 <class 'str'> 5566534\n",
      "338 <class 'str'> 5470235\n",
      "339 <class 'str'> 5332621\n",
      "340 <class 'str'> 5215062\n",
      "341 <class 'str'> 5043620\n",
      "342 <class 'str'> 4950029\n",
      "343 <class 'str'> 4809800\n",
      "344 <class 'str'> 4600249\n",
      "345 <class 'str'> 4535154\n",
      "346 <class 'str'> 4515719\n",
      "347 <class 'str'> 4654000\n",
      "348 <class 'str'> 4580048\n",
      "349 <class 'str'> 4697364\n",
      "350 <class 'str'> 4376819\n",
      "351 <class 'str'> 4366949\n",
      "352 <class 'str'> 270620950\n",
      "353 <class 'str'> 4450456\n",
      "354 <class 'str'> 4252657\n",
      "355 <class 'str'> 4186168\n",
      "356 <class 'str'> 4046429\n",
      "357 <class 'str'> 4567338\n",
      "358 <class 'str'> 3659413\n",
      "359 <class 'str'> 3531094\n",
      "360 <class 'str'> 3509917\n",
      "361 <class 'str'> 3502600\n",
      "362 <class 'str'> 3355324\n",
      "363 <class 'str'> 115715889\n",
      "364 <class 'str'> 4589490\n",
      "365 <class 'str'> 3168978\n",
      "366 <class 'str'> 5102129\n",
      "367 <class 'str'> 2971549\n",
      "368 <class 'str'> 3012615\n",
      "369 <class 'str'> 2884827\n",
      "370 <class 'str'> 2872057\n",
      "371 <class 'str'> 2729336\n",
      "372 <class 'str'> 2670925\n",
      "373 <class 'str'> 2660165\n",
      "374 <class 'str'> 67363237\n",
      "375 <class 'str'> 2410914\n",
      "376 <class 'str'> 2410795\n",
      "377 <class 'str'> 10763520\n",
      "378 <class 'str'> 2356683\n",
      "379 <class 'str'> 2313596\n",
      "380 <class 'str'> 2269878\n",
      "381 <class 'str'> 2243180\n",
      "382 <class 'str'> 206305244\n",
      "383 <class 'str'> 159227644\n",
      "384 <class 'str'> 148974665\n",
      "385 <class 'str'> 84158461\n",
      "386 <class 'str'> 77047065\n",
      "387 <class 'str'> 70410000\n",
      "388 <class 'str'> 62342368\n",
      "389 <class 'str'> 61555145\n",
      "390 <class 'str'> 57929000\n",
      "391 <class 'str'> 36471795\n",
      "392 <class 'str'> 36001502\n",
      "393 <class 'str'> 44090315\n",
      "394 <class 'str'> 27309289\n",
      "395 <class 'str'> 23852659\n",
      "396 <class 'str'> 22169514\n",
      "397 <class 'str'> 21221803\n",
      "398 <class 'str'> 20831465\n",
      "399 <class 'str'> 20578185\n",
      "400 <class 'str'> 19646340\n",
      "401 <class 'str'> 17291078\n",
      "402 <class 'str'> 39200000\n",
      "403 <class 'str'> 15472775\n",
      "404 <class 'str'> 15347654\n",
      "405 <class 'str'> 14163574\n",
      "406 <class 'str'> 13304000\n",
      "407 <class 'str'> 13590514\n",
      "408 <class 'str'> 12611536\n",
      "409 <class 'str'> 10691091\n",
      "410 <class 'str'> 10055355\n",
      "411 <class 'str'> 12561824\n",
      "412 <class 'str'> 9868521\n",
      "413 <class 'str'> 10069585\n",
      "414 <class 'str'> 9358025\n",
      "415 <class 'str'> 8993265\n",
      "416 <class 'str'> 8287061\n",
      "417 <class 'str'> 7798743\n",
      "418 <class 'str'> 5812500\n",
      "419 <class 'str'> 5437971\n",
      "420 <class 'str'> 11218847\n",
      "421 <class 'str'> 4828000\n",
      "422 <class 'str'> 4810790\n",
      "423 <class 'str'> 4067442\n",
      "424 <class 'str'> 4051990\n",
      "425 <class 'str'> 10426410\n",
      "426 <class 'str'> 3759854\n",
      "427 <class 'str'> 3439660\n",
      "428 <class 'str'> 3306611\n",
      "429 <class 'str'> 2992948\n",
      "430 <class 'str'> 2971116\n",
      "431 <class 'str'> 2949212\n",
      "432 <class 'str'> 2542518\n",
      "433 <class 'str'> 2482000\n",
      "434 <class 'str'> 5623796\n",
      "435 <class 'str'> 2286000\n",
      "436 <class 'str'> 3956031\n",
      "437 <class 'str'> 2241980\n",
      "438 <class 'str'> 2003568\n",
      "439 <class 'str'> 1876298\n",
      "440 <class 'str'> 1814193\n",
      "441 <class 'str'> 2138907\n",
      "442 <class 'str'> 1637548\n",
      "443 <class 'str'> 1386600\n",
      "444 <class 'str'> 1349286\n",
      "445 <class 'str'> 4407330\n",
      "446 <class 'str'> 1181823\n",
      "447 <class 'str'> 1231407\n",
      "448 <class 'str'> 1100313\n",
      "449 <class 'str'> 1070714\n",
      "450 <class 'str'> 1047083\n",
      "451 <class 'str'> 1044212\n",
      "452 <class 'str'> 1034467\n",
      "453 <class 'str'> 1003700\n",
      "454 <class 'str'> 1077584\n",
      "455 <class 'str'> 913935\n",
      "456 <class 'str'> 889863\n",
      "457 <class 'str'> 871000\n",
      "458 <class 'str'> 1730597\n",
      "459 <class 'str'> 855894\n",
      "460 <class 'str'> 825000\n",
      "461 <class 'str'> 821000\n",
      "462 <class 'str'> 793525\n",
      "463 <class 'str'> 793084\n",
      "464 <class 'str'> 758300\n",
      "465 <class 'str'> 752885\n",
      "466 <class 'str'> 2386483\n",
      "467 <class 'str'> 727000\n",
      "468 <class 'str'> 726000\n",
      "469 <class 'str'> 721439\n",
      "470 <class 'str'> 706000\n",
      "471 <class 'str'> 696191\n",
      "472 <class 'str'> 711000\n",
      "473 <class 'str'> 685380\n",
      "474 <class 'str'> 678926\n",
      "475 <class 'str'> 1073969\n",
      "476 <class 'str'> 605000\n",
      "477 <class 'str'> 604334\n",
      "478 <class 'str'> 582720\n",
      "479 <class 'str'> 636673\n",
      "480 <class 'str'> 542000\n",
      "481 <class 'str'> 765561\n",
      "482 <class 'str'> 538179\n",
      "483 <class 'str'> 537589\n",
      "484 <class 'str'> 531430\n",
      "485 <class 'str'> 514107\n",
      "486 <class 'str'> 512805\n",
      "487 <class 'str'> 516521\n",
      "488 <class 'str'> 473781\n",
      "489 <class 'str'> 502252\n",
      "490 <class 'str'> 500104\n",
      "491 <class 'str'> 497747\n",
      "492 <class 'str'> 1636959\n",
      "493 <class 'str'> 467000\n",
      "494 <class 'str'> 460000\n",
      "495 <class 'str'> 449561\n",
      "496 <class 'str'> 434702\n",
      "497 <class 'str'> 430000\n",
      "498 <class 'str'> 1788322\n",
      "499 <class 'str'> 429148\n",
      "500 <class 'str'> 413378\n",
      "501 <class 'str'> 410265\n",
      "502 <class 'str'> 405904\n",
      "503 <class 'str'> 367000\n",
      "504 <class 'str'> 364138\n",
      "505 <class 'str'> 398663\n",
      "506 <class 'str'> 355308\n",
      "507 <class 'str'> 367849\n",
      "508 <class 'str'> 332432\n",
      "509 <class 'str'> 372755\n",
      "510 <class 'str'> 330181\n",
      "511 <class 'str'> 325000\n",
      "512 <class 'str'> 364716\n",
      "513 <class 'str'> 323688\n",
      "514 <class 'str'> 300460\n",
      "515 <class 'str'> 301162\n",
      "516 <class 'str'> 296027\n",
      "517 <class 'str'> 295000\n",
      "518 <class 'str'> 420180\n",
      "519 <class 'str'> 289573\n",
      "520 <class 'str'> 282149\n",
      "521 <class 'str'> 278378\n",
      "522 <class 'str'> 267824\n",
      "523 <class 'str'> 252000\n",
      "524 <class 'str'> 247000\n",
      "525 <class 'str'> 240000\n",
      "526 <class 'str'> 483684\n",
      "527 <class 'str'> 237571\n",
      "528 <class 'str'> 234505\n",
      "529 <class 'str'> 234429\n",
      "530 <class 'str'> 228615\n",
      "531 <class 'str'> 437625\n",
      "532 <class 'str'> 215000\n",
      "533 <class 'str'> 213440\n",
      "534 <class 'str'> 207928\n",
      "535 <class 'str'> 214670\n",
      "536 <class 'str'> 200000\n",
      "537 <class 'str'> 372562\n",
      "538 <class 'str'> 198352\n",
      "539 <class 'str'> 265102\n",
      "540 <class 'str'> 190160\n",
      "541 <class 'str'> 185026\n",
      "542 <class 'str'> 184477\n",
      "543 <class 'str'> 177262\n",
      "544 <class 'str'> 196258\n",
      "545 <class 'str'> 167962\n",
      "546 <class 'str'> 164346\n",
      "547 <class 'str'> 164000\n",
      "548 <class 'str'> 159014\n",
      "549 <class 'str'> 153504\n",
      "550 <class 'str'> 156552\n"
     ]
    }
   ],
   "source": [
    "j = 0\n",
    "for y in df_new2.index:\n",
    "        print(j, type(df_new2.Domestic_Gross[j]), df_new2.Domestic_Gross[j])\n",
    "        j += 1"
   ]
  },
  {
   "cell_type": "markdown",
   "metadata": {},
   "source": [
    "Converted Domestic Gross and Budget to numeric datatypes."
   ]
  },
  {
   "cell_type": "code",
   "execution_count": 224,
   "metadata": {},
   "outputs": [
    {
     "name": "stdout",
     "output_type": "stream",
     "text": [
      "<class 'pandas.core.frame.DataFrame'>\n",
      "Int64Index: 551 entries, 0 to 550\n",
      "Data columns (total 7 columns):\n",
      " #   Column          Non-Null Count  Dtype  \n",
      "---  ------          --------------  -----  \n",
      " 0   Movie_Title     551 non-null    object \n",
      " 1   Movie_Page_x    551 non-null    object \n",
      " 2   Year_Released   551 non-null    object \n",
      " 3   Domestic_Gross  551 non-null    int64  \n",
      " 4   Budget          325 non-null    float64\n",
      " 5   MPAA            486 non-null    object \n",
      " 6   Genres          551 non-null    object \n",
      "dtypes: float64(1), int64(1), object(5)\n",
      "memory usage: 54.4+ KB\n"
     ]
    }
   ],
   "source": [
    "df_new2[[\"Domestic_Gross\", \"Budget\"]] = df_new2[[\"Domestic_Gross\", \"Budget\"]].apply(pd.to_numeric)\n",
    "df_new2.info()"
   ]
  },
  {
   "cell_type": "markdown",
   "metadata": {},
   "source": [
    "Created a dataframe of movies for each MPAA rating, so that I could take the domestic gross mean for each MPAA rating."
   ]
  },
  {
   "cell_type": "code",
   "execution_count": 225,
   "metadata": {},
   "outputs": [
    {
     "data": {
      "text/plain": [
       "(484, 67870218970, 140227725.1446281)"
      ]
     },
     "execution_count": 225,
     "metadata": {},
     "output_type": "execute_result"
    }
   ],
   "source": [
    "g_movies = df_new2[df_new2[\"MPAA\"].isin(['G'])]\n",
    "pg_movies = df_new2[df_new2[\"MPAA\"].isin(['PG'])]\n",
    "pg13_movies = df_new2[df_new2[\"MPAA\"].isin(['PG-13'])]\n",
    "r_movies = df_new2[df_new2[\"MPAA\"].isin(['R'])]\n",
    "all_movies = df_new2[df_new2[\"MPAA\"].isin(['G', 'PG', 'PG-13', 'R'])]\n",
    "len(all_movies.index), all_movies.Domestic_Gross.sum(), all_movies.Domestic_Gross.mean()"
   ]
  },
  {
   "cell_type": "code",
   "execution_count": 226,
   "metadata": {},
   "outputs": [
    {
     "data": {
      "image/png": "[encoded data removed]",
      "text/plain": [
       "<Figure size 432x288 with 1 Axes>"
      ]
     },
     "metadata": {
      "needs_background": "light"
     },
     "output_type": "display_data"
    }
   ],
   "source": [
    "from matplotlib import pyplot as plt \n",
    "%matplotlib inline\n",
    "\n",
    "ave_gross_by_mpaa_x = ['G', 'PG', 'PG-13', 'R', 'All']\n",
    "ave_gross_by_mpaa_y = [g_movies.Domestic_Gross.mean(), pg_movies.Domestic_Gross.mean(), pg13_movies.Domestic_Gross.mean(), r_movies.Domestic_Gross.mean(), all_movies.Domestic_Gross.mean()]\n",
    "\n",
    "fig = plt.figure()\n",
    "ax = fig.add_axes([0,0,1,1])\n",
    "ax.bar(ave_gross_by_mpaa_x, ave_gross_by_mpaa_y)\n",
    "plt.xlabel('MPAA Rating')\n",
    "plt.ylabel('Mean Gross x $10,000,000')\n",
    "plt.title(\"Mean Movie Gross by MPAA Rating\")\n",
    "plt.show()"
   ]
  },
  {
   "cell_type": "markdown",
   "metadata": {},
   "source": [
    "Generated a mean for each genre count, genre count being the number of genres that were listed for a particular movie."
   ]
  },
  {
   "cell_type": "code",
   "execution_count": 227,
   "metadata": {
    "scrolled": true
   },
   "outputs": [
    {
     "name": "stdout",
     "output_type": "stream",
     "text": [
      "42 1412293944 33626046.28571428\n"
     ]
    }
   ],
   "source": [
    "genres1_gross_sum = 0\n",
    "genres1_count = 0\n",
    "for x in df_new2.index:\n",
    "    if len(df_new2['Genres'][x]) == 1:\n",
    "#         print(df_new2['Movie_Title'][x])\n",
    "        genres1_count += 1\n",
    "        genres1_gross_sum = genres1_gross_sum + df_new2['Domestic_Gross'][x]\n",
    "genres1_mean = genres1_gross_sum/genres1_count\n",
    "print(genres1_count, genres1_gross_sum, genres1_mean)\n",
    " "
   ]
  },
  {
   "cell_type": "code",
   "execution_count": 236,
   "metadata": {},
   "outputs": [
    {
     "name": "stdout",
     "output_type": "stream",
     "text": [
      "90 4982444270 55360491.88888889\n"
     ]
    }
   ],
   "source": [
    "genres2_gross_sum = 0\n",
    "genres2_count = 0\n",
    "for x in df_new2.index:\n",
    "    if len(df_new2['Genres'][x]) == 2:\n",
    "#         print(df_new2['Movie_Title'][x])\n",
    "        genres2_count += 1\n",
    "        genres2_gross_sum = genres2_gross_sum + df_new2['Domestic_Gross'][x]\n",
    "genres2_mean = genres2_gross_sum/genres2_count\n",
    "print(genres2_count, genres2_gross_sum, genres2_mean)\n"
   ]
  },
  {
   "cell_type": "code",
   "execution_count": 228,
   "metadata": {},
   "outputs": [
    {
     "name": "stdout",
     "output_type": "stream",
     "text": [
      "176 24087245007 136859346.6306818\n"
     ]
    }
   ],
   "source": [
    "genres3_gross_sum = 0\n",
    "genres3_count = 0\n",
    "for x in df_new2.index:\n",
    "    if len(df_new2['Genres'][x]) == 3:\n",
    "#         print(df_new2['Movie_Title'][x])\n",
    "        genres3_count += 1\n",
    "        genres3_gross_sum = genres3_gross_sum + df_new2['Domestic_Gross'][x]\n",
    "genres3_mean = genres3_gross_sum/genres3_count\n",
    "print(genres3_count, genres3_gross_sum, genres3_mean)\n"
   ]
  },
  {
   "cell_type": "code",
   "execution_count": 238,
   "metadata": {},
   "outputs": [
    {
     "name": "stdout",
     "output_type": "stream",
     "text": [
      "147 23461515490 159602146.19047618\n"
     ]
    }
   ],
   "source": [
    "genres4_gross_sum = 0\n",
    "genres4_count = 0\n",
    "for x in df_new2.index:\n",
    "    if len(df_new2['Genres'][x]) == 4:\n",
    "#         print(df_new2['Movie_Title'][x])\n",
    "        genres4_count += 1\n",
    "        genres4_gross_sum = genres4_gross_sum + df_new2['Domestic_Gross'][x]\n",
    "genres4_mean = genres4_gross_sum/genres4_count\n",
    "print(genres4_count, genres4_gross_sum, genres4_mean)\n"
   ]
  },
  {
   "cell_type": "code",
   "execution_count": 229,
   "metadata": {},
   "outputs": [
    {
     "name": "stdout",
     "output_type": "stream",
     "text": [
      "64 9887616519 154494008.109375\n"
     ]
    }
   ],
   "source": [
    "genres5_gross_sum = 0\n",
    "genres5_count = 0\n",
    "for x in df_new2.index:\n",
    "    if len(df_new2['Genres'][x]) == 5:\n",
    "#         print(df_new2['Movie_Title'][x])\n",
    "        genres5_count += 1\n",
    "        genres5_gross_sum = genres5_gross_sum + df_new2['Domestic_Gross'][x]\n",
    "genres5_mean = genres5_gross_sum/genres5_count\n",
    "print(genres5_count, genres5_gross_sum, genres5_mean)\n"
   ]
  },
  {
   "cell_type": "code",
   "execution_count": 230,
   "metadata": {},
   "outputs": [
    {
     "name": "stdout",
     "output_type": "stream",
     "text": [
      "24 4542994780 189291449.16666666\n"
     ]
    }
   ],
   "source": [
    "genres6_gross_sum = 0\n",
    "genres6_count = 0\n",
    "for x in df_new2.index:\n",
    "    if len(df_new2['Genres'][x]) == 6:\n",
    "#         print(df_new2['Movie_Title'][x])\n",
    "        genres6_count += 1\n",
    "        genres6_gross_sum = genres6_gross_sum + df_new2['Domestic_Gross'][x]\n",
    "genres6_mean = genres6_gross_sum/genres6_count\n",
    "print(genres6_count, genres6_gross_sum, genres6_mean)\n"
   ]
  },
  {
   "cell_type": "code",
   "execution_count": 231,
   "metadata": {},
   "outputs": [
    {
     "name": "stdout",
     "output_type": "stream",
     "text": [
      "5 824352996 164870599.2\n"
     ]
    }
   ],
   "source": [
    "genres7_gross_sum = 0\n",
    "genres7_count = 0\n",
    "for x in df_new2.index:\n",
    "    if len(df_new2['Genres'][x]) == 7:\n",
    "#         print(df_new2['Movie_Title'][x])\n",
    "        genres7_count += 1\n",
    "        genres7_gross_sum = genres7_gross_sum + df_new2['Domestic_Gross'][x]\n",
    "genres7_mean = genres7_gross_sum/genres7_count\n",
    "print(genres7_count, genres7_gross_sum, genres7_mean)\n"
   ]
  },
  {
   "cell_type": "code",
   "execution_count": 232,
   "metadata": {},
   "outputs": [
    {
     "name": "stdout",
     "output_type": "stream",
     "text": [
      "1 2313596 2313596.0\n"
     ]
    }
   ],
   "source": [
    "genres8_gross_sum = 0\n",
    "genres8_count = 0\n",
    "for x in df_new2.index:\n",
    "    if len(df_new2['Genres'][x]) == 8:\n",
    "#         print(df_new2['Movie_Title'][x])\n",
    "        genres8_count += 1\n",
    "        genres8_gross_sum = genres8_gross_sum + df_new2['Domestic_Gross'][x]\n",
    "genres8_mean = genres8_gross_sum/genres8_count\n",
    "print(genres8_count, genres8_gross_sum, genres8_mean)\n"
   ]
  },
  {
   "cell_type": "code",
   "execution_count": 233,
   "metadata": {},
   "outputs": [
    {
     "name": "stdout",
     "output_type": "stream",
     "text": [
      "2\n"
     ]
    }
   ],
   "source": [
    "genres0_count = 0\n",
    "for x in df_new2.index:\n",
    "    if len(df_new2['Genres'][x]) == 0:\n",
    "#         print(df_new2['Movie_Title'][x])\n",
    "        genres0_count += 1\n",
    "print(genres0_count)\n"
   ]
  },
  {
   "cell_type": "code",
   "execution_count": 234,
   "metadata": {},
   "outputs": [
    {
     "name": "stdout",
     "output_type": "stream",
     "text": [
      "0\n"
     ]
    }
   ],
   "source": [
    "genres9_count = 0\n",
    "for x in df_new2.index:\n",
    "    if len(df_new2['Genres'][x]) > 8:\n",
    "#         print(df_new2['Movie_Title'][x])\n",
    "        genres9_count += 1\n",
    "print(genres9_count)\n"
   ]
  },
  {
   "cell_type": "code",
   "execution_count": 239,
   "metadata": {},
   "outputs": [
    {
     "data": {
      "image/png": "[encoded data removed]",
      "text/plain": [
       "<Figure size 432x288 with 1 Axes>"
      ]
     },
     "metadata": {
      "needs_background": "light"
     },
     "output_type": "display_data"
    }
   ],
   "source": [
    "ave_gross_by_genres_count_x = [\"1\", \"2\", \"3\", \"4\", \"5\", \"6\", \"7\", \"8\", \"All\"]\n",
    "ave_gross_by_genres_count_y = [genres1_mean, genres2_mean, genres3_mean, genres4_mean, genres5_mean, genres6_mean, genres7_mean, genres8_mean, all_movies.Domestic_Gross.mean()]\n",
    "\n",
    "fig = plt.figure()\n",
    "ax = fig.add_axes([0,0,1,1])\n",
    "ax.bar(ave_gross_by_genres_count_x, ave_gross_by_genres_count_y)\n",
    "plt.xlabel('Number of Genres')\n",
    "plt.ylabel('Mean Gross x $10,000,000')\n",
    "plt.title(\"Mean Movie Gross by Number of Genres\")\n",
    "plt.show()"
   ]
  },
  {
   "cell_type": "markdown",
   "metadata": {},
   "source": [
    "Created a dataframe with each genre and the number of movies that listed each genre."
   ]
  },
  {
   "cell_type": "code",
   "execution_count": 240,
   "metadata": {},
   "outputs": [
    {
     "data": {
      "text/plain": [
       "Adventure      249\n",
       "Drama          212\n",
       "Action         205\n",
       "Comedy         183\n",
       "Fantasy        150\n",
       "Thriller       134\n",
       "Sci-Fi         129\n",
       "Family         115\n",
       "Animation       80\n",
       "Romance         63\n",
       "Horror          60\n",
       "Mystery         58\n",
       "Crime           48\n",
       "Biography       41\n",
       "Music           25\n",
       "Documentary     22\n",
       "Musical         21\n",
       "History         18\n",
       "War             17\n",
       "Sport           13\n",
       "Western          2\n",
       "dtype: int64"
      ]
     },
     "execution_count": 240,
     "metadata": {},
     "output_type": "execute_result"
    }
   ],
   "source": [
    "def to_1D(series):\n",
    " return pd.Series([x for _list in series for x in _list])\n",
    "\n",
    "to_1D(df_new2['Genres']).value_counts()"
   ]
  },
  {
   "cell_type": "code",
   "execution_count": 241,
   "metadata": {},
   "outputs": [
    {
     "data": {
      "text/html": [
       "<div>\n",
       "<style scoped>\n",
       "    .dataframe tbody tr th:only-of-type {\n",
       "        vertical-align: middle;\n",
       "    }\n",
       "\n",
       "    .dataframe tbody tr th {\n",
       "        vertical-align: top;\n",
       "    }\n",
       "\n",
       "    .dataframe thead th {\n",
       "        text-align: right;\n",
       "    }\n",
       "</style>\n",
       "<table border=\"1\" class=\"dataframe\">\n",
       "  <thead>\n",
       "    <tr style=\"text-align: right;\">\n",
       "      <th></th>\n",
       "      <th>Genre_Count</th>\n",
       "    </tr>\n",
       "  </thead>\n",
       "  <tbody>\n",
       "    <tr>\n",
       "      <th>Adventure</th>\n",
       "      <td>249</td>\n",
       "    </tr>\n",
       "    <tr>\n",
       "      <th>Drama</th>\n",
       "      <td>212</td>\n",
       "    </tr>\n",
       "    <tr>\n",
       "      <th>Action</th>\n",
       "      <td>205</td>\n",
       "    </tr>\n",
       "    <tr>\n",
       "      <th>Comedy</th>\n",
       "      <td>183</td>\n",
       "    </tr>\n",
       "    <tr>\n",
       "      <th>Fantasy</th>\n",
       "      <td>150</td>\n",
       "    </tr>\n",
       "  </tbody>\n",
       "</table>\n",
       "</div>"
      ],
      "text/plain": [
       "           Genre_Count\n",
       "Adventure          249\n",
       "Drama              212\n",
       "Action             205\n",
       "Comedy             183\n",
       "Fantasy            150"
      ]
     },
     "execution_count": 241,
     "metadata": {},
     "output_type": "execute_result"
    }
   ],
   "source": [
    "df_genres = pd.DataFrame(to_1D(df_new2['Genres']).value_counts())\n",
    "df_genres.columns =['Genre_Count'] \n",
    "df_genres.head()"
   ]
  },
  {
   "cell_type": "markdown",
   "metadata": {},
   "source": [
    "Added columns for the sum of domestic gross for all movies with each genre, and the mean of domestic gross for each genre."
   ]
  },
  {
   "cell_type": "code",
   "execution_count": 242,
   "metadata": {},
   "outputs": [
    {
     "data": {
      "text/html": [
       "<div>\n",
       "<style scoped>\n",
       "    .dataframe tbody tr th:only-of-type {\n",
       "        vertical-align: middle;\n",
       "    }\n",
       "\n",
       "    .dataframe tbody tr th {\n",
       "        vertical-align: top;\n",
       "    }\n",
       "\n",
       "    .dataframe thead th {\n",
       "        text-align: right;\n",
       "    }\n",
       "</style>\n",
       "<table border=\"1\" class=\"dataframe\">\n",
       "  <thead>\n",
       "    <tr style=\"text-align: right;\">\n",
       "      <th></th>\n",
       "      <th>Genre_Count</th>\n",
       "      <th>Genres_sum</th>\n",
       "      <th>Genres_mean</th>\n",
       "    </tr>\n",
       "  </thead>\n",
       "  <tbody>\n",
       "    <tr>\n",
       "      <th>Adventure</th>\n",
       "      <td>249</td>\n",
       "      <td>0</td>\n",
       "      <td>0</td>\n",
       "    </tr>\n",
       "    <tr>\n",
       "      <th>Drama</th>\n",
       "      <td>212</td>\n",
       "      <td>0</td>\n",
       "      <td>0</td>\n",
       "    </tr>\n",
       "    <tr>\n",
       "      <th>Action</th>\n",
       "      <td>205</td>\n",
       "      <td>0</td>\n",
       "      <td>0</td>\n",
       "    </tr>\n",
       "    <tr>\n",
       "      <th>Comedy</th>\n",
       "      <td>183</td>\n",
       "      <td>0</td>\n",
       "      <td>0</td>\n",
       "    </tr>\n",
       "    <tr>\n",
       "      <th>Fantasy</th>\n",
       "      <td>150</td>\n",
       "      <td>0</td>\n",
       "      <td>0</td>\n",
       "    </tr>\n",
       "    <tr>\n",
       "      <th>Thriller</th>\n",
       "      <td>134</td>\n",
       "      <td>0</td>\n",
       "      <td>0</td>\n",
       "    </tr>\n",
       "    <tr>\n",
       "      <th>Sci-Fi</th>\n",
       "      <td>129</td>\n",
       "      <td>0</td>\n",
       "      <td>0</td>\n",
       "    </tr>\n",
       "    <tr>\n",
       "      <th>Family</th>\n",
       "      <td>115</td>\n",
       "      <td>0</td>\n",
       "      <td>0</td>\n",
       "    </tr>\n",
       "    <tr>\n",
       "      <th>Animation</th>\n",
       "      <td>80</td>\n",
       "      <td>0</td>\n",
       "      <td>0</td>\n",
       "    </tr>\n",
       "    <tr>\n",
       "      <th>Romance</th>\n",
       "      <td>63</td>\n",
       "      <td>0</td>\n",
       "      <td>0</td>\n",
       "    </tr>\n",
       "    <tr>\n",
       "      <th>Horror</th>\n",
       "      <td>60</td>\n",
       "      <td>0</td>\n",
       "      <td>0</td>\n",
       "    </tr>\n",
       "    <tr>\n",
       "      <th>Mystery</th>\n",
       "      <td>58</td>\n",
       "      <td>0</td>\n",
       "      <td>0</td>\n",
       "    </tr>\n",
       "    <tr>\n",
       "      <th>Crime</th>\n",
       "      <td>48</td>\n",
       "      <td>0</td>\n",
       "      <td>0</td>\n",
       "    </tr>\n",
       "    <tr>\n",
       "      <th>Biography</th>\n",
       "      <td>41</td>\n",
       "      <td>0</td>\n",
       "      <td>0</td>\n",
       "    </tr>\n",
       "    <tr>\n",
       "      <th>Music</th>\n",
       "      <td>25</td>\n",
       "      <td>0</td>\n",
       "      <td>0</td>\n",
       "    </tr>\n",
       "    <tr>\n",
       "      <th>Documentary</th>\n",
       "      <td>22</td>\n",
       "      <td>0</td>\n",
       "      <td>0</td>\n",
       "    </tr>\n",
       "    <tr>\n",
       "      <th>Musical</th>\n",
       "      <td>21</td>\n",
       "      <td>0</td>\n",
       "      <td>0</td>\n",
       "    </tr>\n",
       "    <tr>\n",
       "      <th>History</th>\n",
       "      <td>18</td>\n",
       "      <td>0</td>\n",
       "      <td>0</td>\n",
       "    </tr>\n",
       "    <tr>\n",
       "      <th>War</th>\n",
       "      <td>17</td>\n",
       "      <td>0</td>\n",
       "      <td>0</td>\n",
       "    </tr>\n",
       "    <tr>\n",
       "      <th>Sport</th>\n",
       "      <td>13</td>\n",
       "      <td>0</td>\n",
       "      <td>0</td>\n",
       "    </tr>\n",
       "    <tr>\n",
       "      <th>Western</th>\n",
       "      <td>2</td>\n",
       "      <td>0</td>\n",
       "      <td>0</td>\n",
       "    </tr>\n",
       "  </tbody>\n",
       "</table>\n",
       "</div>"
      ],
      "text/plain": [
       "             Genre_Count  Genres_sum  Genres_mean\n",
       "Adventure            249           0            0\n",
       "Drama                212           0            0\n",
       "Action               205           0            0\n",
       "Comedy               183           0            0\n",
       "Fantasy              150           0            0\n",
       "Thriller             134           0            0\n",
       "Sci-Fi               129           0            0\n",
       "Family               115           0            0\n",
       "Animation             80           0            0\n",
       "Romance               63           0            0\n",
       "Horror                60           0            0\n",
       "Mystery               58           0            0\n",
       "Crime                 48           0            0\n",
       "Biography             41           0            0\n",
       "Music                 25           0            0\n",
       "Documentary           22           0            0\n",
       "Musical               21           0            0\n",
       "History               18           0            0\n",
       "War                   17           0            0\n",
       "Sport                 13           0            0\n",
       "Western                2           0            0"
      ]
     },
     "execution_count": 242,
     "metadata": {},
     "output_type": "execute_result"
    }
   ],
   "source": [
    "Genres_sum = [0, 0, 0, 0, 0, 0, 0, 0, 0, 0, 0, 0, 0, 0, 0, 0, 0, 0, 0, 0, 0] \n",
    "Genres_mean = [0, 0, 0, 0, 0, 0, 0, 0, 0, 0, 0, 0, 0, 0, 0, 0, 0, 0, 0, 0, 0] \n",
    "df_genres['Genres_sum'] = Genres_sum\n",
    "df_genres['Genres_mean'] = Genres_mean\n",
    "df_genres.head(21)"
   ]
  },
  {
   "cell_type": "markdown",
   "metadata": {},
   "source": [
    "Pulled the domestic gross data from df_new2 and filled in columns for domestic gross sum and mean in the genres dataframe."
   ]
  },
  {
   "cell_type": "code",
   "execution_count": 243,
   "metadata": {},
   "outputs": [
    {
     "data": {
      "text/html": [
       "<div>\n",
       "<style scoped>\n",
       "    .dataframe tbody tr th:only-of-type {\n",
       "        vertical-align: middle;\n",
       "    }\n",
       "\n",
       "    .dataframe tbody tr th {\n",
       "        vertical-align: top;\n",
       "    }\n",
       "\n",
       "    .dataframe thead th {\n",
       "        text-align: right;\n",
       "    }\n",
       "</style>\n",
       "<table border=\"1\" class=\"dataframe\">\n",
       "  <thead>\n",
       "    <tr style=\"text-align: right;\">\n",
       "      <th></th>\n",
       "      <th>Genre_Count</th>\n",
       "      <th>Genres_sum</th>\n",
       "      <th>Genres_mean</th>\n",
       "    </tr>\n",
       "  </thead>\n",
       "  <tbody>\n",
       "    <tr>\n",
       "      <th>Adventure</th>\n",
       "      <td>249</td>\n",
       "      <td>55725412932</td>\n",
       "      <td>223796839</td>\n",
       "    </tr>\n",
       "    <tr>\n",
       "      <th>Drama</th>\n",
       "      <td>212</td>\n",
       "      <td>14646233906</td>\n",
       "      <td>69086008</td>\n",
       "    </tr>\n",
       "    <tr>\n",
       "      <th>Action</th>\n",
       "      <td>205</td>\n",
       "      <td>40388646780</td>\n",
       "      <td>197017789</td>\n",
       "    </tr>\n",
       "    <tr>\n",
       "      <th>Comedy</th>\n",
       "      <td>183</td>\n",
       "      <td>19426535979</td>\n",
       "      <td>106155934</td>\n",
       "    </tr>\n",
       "    <tr>\n",
       "      <th>Fantasy</th>\n",
       "      <td>150</td>\n",
       "      <td>26693707471</td>\n",
       "      <td>177958049</td>\n",
       "    </tr>\n",
       "    <tr>\n",
       "      <th>Thriller</th>\n",
       "      <td>134</td>\n",
       "      <td>11758668930</td>\n",
       "      <td>87751260</td>\n",
       "    </tr>\n",
       "    <tr>\n",
       "      <th>Sci-Fi</th>\n",
       "      <td>129</td>\n",
       "      <td>30576875898</td>\n",
       "      <td>237030045</td>\n",
       "    </tr>\n",
       "    <tr>\n",
       "      <th>Family</th>\n",
       "      <td>115</td>\n",
       "      <td>20665788211</td>\n",
       "      <td>179702506</td>\n",
       "    </tr>\n",
       "    <tr>\n",
       "      <th>Animation</th>\n",
       "      <td>80</td>\n",
       "      <td>14511887217</td>\n",
       "      <td>181398590</td>\n",
       "    </tr>\n",
       "    <tr>\n",
       "      <th>Romance</th>\n",
       "      <td>63</td>\n",
       "      <td>5901723897</td>\n",
       "      <td>93678157</td>\n",
       "    </tr>\n",
       "    <tr>\n",
       "      <th>Horror</th>\n",
       "      <td>60</td>\n",
       "      <td>2117919226</td>\n",
       "      <td>35298653</td>\n",
       "    </tr>\n",
       "    <tr>\n",
       "      <th>Mystery</th>\n",
       "      <td>58</td>\n",
       "      <td>5262452189</td>\n",
       "      <td>90731934</td>\n",
       "    </tr>\n",
       "    <tr>\n",
       "      <th>Crime</th>\n",
       "      <td>48</td>\n",
       "      <td>3630669695</td>\n",
       "      <td>75638951</td>\n",
       "    </tr>\n",
       "    <tr>\n",
       "      <th>Biography</th>\n",
       "      <td>41</td>\n",
       "      <td>1378343752</td>\n",
       "      <td>33618140</td>\n",
       "    </tr>\n",
       "    <tr>\n",
       "      <th>Music</th>\n",
       "      <td>25</td>\n",
       "      <td>965536178</td>\n",
       "      <td>38621447</td>\n",
       "    </tr>\n",
       "    <tr>\n",
       "      <th>Documentary</th>\n",
       "      <td>22</td>\n",
       "      <td>93165137</td>\n",
       "      <td>4234778</td>\n",
       "    </tr>\n",
       "    <tr>\n",
       "      <th>Musical</th>\n",
       "      <td>21</td>\n",
       "      <td>3994885050</td>\n",
       "      <td>190232621</td>\n",
       "    </tr>\n",
       "    <tr>\n",
       "      <th>History</th>\n",
       "      <td>18</td>\n",
       "      <td>419216514</td>\n",
       "      <td>23289806</td>\n",
       "    </tr>\n",
       "    <tr>\n",
       "      <th>War</th>\n",
       "      <td>17</td>\n",
       "      <td>1050067434</td>\n",
       "      <td>61768672</td>\n",
       "    </tr>\n",
       "    <tr>\n",
       "      <th>Sport</th>\n",
       "      <td>13</td>\n",
       "      <td>568209780</td>\n",
       "      <td>43708444</td>\n",
       "    </tr>\n",
       "    <tr>\n",
       "      <th>Western</th>\n",
       "      <td>2</td>\n",
       "      <td>194064304</td>\n",
       "      <td>97032152</td>\n",
       "    </tr>\n",
       "  </tbody>\n",
       "</table>\n",
       "</div>"
      ],
      "text/plain": [
       "             Genre_Count   Genres_sum  Genres_mean\n",
       "Adventure            249  55725412932    223796839\n",
       "Drama                212  14646233906     69086008\n",
       "Action               205  40388646780    197017789\n",
       "Comedy               183  19426535979    106155934\n",
       "Fantasy              150  26693707471    177958049\n",
       "Thriller             134  11758668930     87751260\n",
       "Sci-Fi               129  30576875898    237030045\n",
       "Family               115  20665788211    179702506\n",
       "Animation             80  14511887217    181398590\n",
       "Romance               63   5901723897     93678157\n",
       "Horror                60   2117919226     35298653\n",
       "Mystery               58   5262452189     90731934\n",
       "Crime                 48   3630669695     75638951\n",
       "Biography             41   1378343752     33618140\n",
       "Music                 25    965536178     38621447\n",
       "Documentary           22     93165137      4234778\n",
       "Musical               21   3994885050    190232621\n",
       "History               18    419216514     23289806\n",
       "War                   17   1050067434     61768672\n",
       "Sport                 13    568209780     43708444\n",
       "Western                2    194064304     97032152"
      ]
     },
     "execution_count": 243,
     "metadata": {},
     "output_type": "execute_result"
    }
   ],
   "source": [
    "for x in df_new2.index:\n",
    "    for y in range(0, len(df_genres.index)):\n",
    "        genre = df_genres.index[y]\n",
    "        if df_new2.Genres[x].count(genre) > 0:\n",
    "            df_genres.Genres_sum[y] = df_genres.Genres_sum[y] + df_new2.Domestic_Gross[x]\n",
    "for y in df_genres.index:\n",
    "    df_genres.Genres_mean[y] = df_genres.Genres_sum[y]/df_genres.Genre_Count[y]\n",
    "df_genres.head(21)"
   ]
  },
  {
   "cell_type": "markdown",
   "metadata": {},
   "source": [
    "Created a bar plot of the domestic gross mean for each genre."
   ]
  },
  {
   "cell_type": "markdown",
   "metadata": {},
   "source": [
    "Reset the index in the genres dataframe so that I can reference it when using it as the x axis of my barplot."
   ]
  },
  {
   "cell_type": "code",
   "execution_count": 245,
   "metadata": {},
   "outputs": [
    {
     "data": {
      "text/html": [
       "<div>\n",
       "<style scoped>\n",
       "    .dataframe tbody tr th:only-of-type {\n",
       "        vertical-align: middle;\n",
       "    }\n",
       "\n",
       "    .dataframe tbody tr th {\n",
       "        vertical-align: top;\n",
       "    }\n",
       "\n",
       "    .dataframe thead th {\n",
       "        text-align: right;\n",
       "    }\n",
       "</style>\n",
       "<table border=\"1\" class=\"dataframe\">\n",
       "  <thead>\n",
       "    <tr style=\"text-align: right;\">\n",
       "      <th></th>\n",
       "      <th>Genre</th>\n",
       "      <th>Genre_Count</th>\n",
       "      <th>Genres_sum</th>\n",
       "      <th>Genres_mean</th>\n",
       "    </tr>\n",
       "  </thead>\n",
       "  <tbody>\n",
       "    <tr>\n",
       "      <th>0</th>\n",
       "      <td>Adventure</td>\n",
       "      <td>249</td>\n",
       "      <td>55725412932</td>\n",
       "      <td>223796839</td>\n",
       "    </tr>\n",
       "    <tr>\n",
       "      <th>1</th>\n",
       "      <td>Drama</td>\n",
       "      <td>212</td>\n",
       "      <td>14646233906</td>\n",
       "      <td>69086008</td>\n",
       "    </tr>\n",
       "    <tr>\n",
       "      <th>2</th>\n",
       "      <td>Action</td>\n",
       "      <td>205</td>\n",
       "      <td>40388646780</td>\n",
       "      <td>197017789</td>\n",
       "    </tr>\n",
       "    <tr>\n",
       "      <th>3</th>\n",
       "      <td>Comedy</td>\n",
       "      <td>183</td>\n",
       "      <td>19426535979</td>\n",
       "      <td>106155934</td>\n",
       "    </tr>\n",
       "    <tr>\n",
       "      <th>4</th>\n",
       "      <td>Fantasy</td>\n",
       "      <td>150</td>\n",
       "      <td>26693707471</td>\n",
       "      <td>177958049</td>\n",
       "    </tr>\n",
       "  </tbody>\n",
       "</table>\n",
       "</div>"
      ],
      "text/plain": [
       "       Genre  Genre_Count   Genres_sum  Genres_mean\n",
       "0  Adventure          249  55725412932    223796839\n",
       "1      Drama          212  14646233906     69086008\n",
       "2     Action          205  40388646780    197017789\n",
       "3     Comedy          183  19426535979    106155934\n",
       "4    Fantasy          150  26693707471    177958049"
      ]
     },
     "execution_count": 245,
     "metadata": {},
     "output_type": "execute_result"
    }
   ],
   "source": [
    "df_genres.reset_index(inplace=True)\n",
    "df_genres = df_genres.rename(columns = {'index':'Genre'})\n",
    "df_genres.head()"
   ]
  },
  {
   "cell_type": "markdown",
   "metadata": {},
   "source": [
    "Reformatted the barplot to sort by mean gross in descending order."
   ]
  },
  {
   "cell_type": "code",
   "execution_count": 247,
   "metadata": {},
   "outputs": [
    {
     "data": {
      "text/plain": [
       "Text(0.5, 1.0, 'Mean Movie Gross by Genre')"
      ]
     },
     "execution_count": 247,
     "metadata": {},
     "output_type": "execute_result"
    },
    {
     "data": {
      "image/png": "[encoded data removed]",
      "text/plain": [
       "<Figure size 1440x432 with 1 Axes>"
      ]
     },
     "metadata": {
      "needs_background": "light"
     },
     "output_type": "display_data"
    }
   ],
   "source": [
    "import seaborn as sns\n",
    "import pandas.util.testing as tm\n",
    "\n",
    "plt.figure(figsize=(20, 6))\n",
    "sns.barplot(x='Genre', \n",
    "            y=\"Genres_mean\", data=df_genres,  \n",
    "            order=df_genres.sort_values('Genres_mean', ascending = False).Genre)\n",
    "plt.ylabel('Mean Gross x $10,000,000')\n",
    "plt.title(\"Mean Movie Gross by Genre\")\n"
   ]
  },
  {
   "cell_type": "code",
   "execution_count": null,
   "metadata": {},
   "outputs": [],
   "source": []
  }
 ],
 "metadata": {
  "kernelspec": {
   "display_name": "learn-env",
   "language": "python",
   "name": "learn-env"
  },
  "language_info": {
   "codemirror_mode": {
    "name": "ipython",
    "version": 3
   },
   "file_extension": ".py",
   "mimetype": "text/x-python",
   "name": "python",
   "nbconvert_exporter": "python",
   "pygments_lexer": "ipython3",
   "version": "3.6.9"
  }
 },
 "nbformat": 4,
 "nbformat_minor": 2
}
